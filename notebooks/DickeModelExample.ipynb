{
 "cells": [
  {
   "cell_type": "markdown",
   "metadata": {},
   "source": [
    "# Dicke model in the ultrastrong coupling regime\n",
    "When studying nano-materials, it is critical to model the interactions between light and matter.  These interactions are largely governed by the strength of the coupling between optically active quantum nanoparticles which can be described by two level quantum emitters, and light (photons) which can be represented by a bosonic cavity mode.  This type of interaction motivates both the Dicke model and Tavis-Cummings model, which will be outlined below.\n",
    "\n",
    "##  Models\n",
    "As described above, the Dicke model describes the interaction between matter and light.  The Dicke Hamiltonian is given by\n",
    "\\begin{equation}\n",
    "H_D = \\hbar \\omega_c a^{\\dagger} a + \\frac{\\hbar \\omega_o}{2} \\sum_{n=1}^{n_s} \\left( \\sigma^{z}_{n} + I \\right) + \\hbar \\lambda \\left( a + a^{\\dagger} \\right) \\sum_{n=1}^{n_s} \\left( \\sigma^{-}_{n} + \\sigma^{+}_{n} \\right)\n",
    "\\end{equation}\n",
    "where $\\hbar$ is the reduced planck constant which we will take to be $\\hbar = 1$, $a^{\\dagger}$ and $a$ are the bosonic creation and annihilation operators respectively, $n_s$ is the number of sites for the two level quantum emitters, $\\sigma^{z}_{n}$ is the Pauli Z matrix at site $n$, $\\sigma^{\\pm}_{n} = \\frac{\\sigma^{x}_{n} \\pm i\\sigma^{y}_{n}}{2}$ at site $n$, $\\omega_c$ is the cavity photon mode energy, $\\omega_o$ is the transition energy of the two level quantum emitters, and $\\lambda$ is the coherent quantum exchange rate (i.e. the strength of the coupling between the light and matter).  The interaction terms of the Dicke Model are often considered in two parts: the rotating and counter-rotating terms.  The rotating terms are given by $a^{\\dagger}\\sigma^{-}_{n} + a\\sigma^{+}_{n}$ and the counter-rotating terms are given by $a^{\\dagger}\\sigma^{+}_{n} + a\\sigma^{-}_{n}$.  An approximation can be made where one does not consider the counter-rotating terms.  This motivates the Tavis-Cummings model, described by the Hamiltonian\n",
    "\\begin{equation}\n",
    "H_{TC} = \\hbar \\omega_c a^{\\dagger} a + \\frac{\\hbar \\omega_o}{2} \\sum_{n=1}^{n_s} \\left( \\sigma^{z}_{n} + I \\right) + \\hbar \\lambda \\sum_{n=1}^{n_s} \\left( a^{\\dagger}\\sigma^{-}_{n} + a\\sigma^{+}_{n} \\right)\n",
    "\\end{equation}\n",
    "\n",
    "Since both of these models are frequently used in studies of the interaction between light and matter, it is important to be able to compare ground state spectra in the strong coupling regime (non-negligible lambda), where the effect of ignoring the counter-rotating terms is expected to be the most stark.  Classical methods are sufficient for performing these simulations for low cutoff values for the bosonic cavity (~50 bosonic quanta) with 10 spins, however these experiments likely display finite size effects.  To simulate larger systems, a quantum computing approach becomes necessary.  To perform these simulations on a quantum computer, one must first devise an encoding to embed the models onto a quantum device.\n",
    "\n",
    "## Encoding\n",
    "Since both the Dicke model and Tavis-Cummings model are motivated by the same interactions, the approach to encoding both models is virtually identical.  To encode the bosonic mode we use a simple, likely non-optimal, one-hot encoding of the bosonic mode.  Since a boson can, in principle, have infinitely many quanta, we must consider a cutoff which we will call $n_b$.  This means that we assume that our bosonic operator may take states $|0\\rangle = |\\uparrow_{0} \\downarrow_{1} \\dots \\downarrow_{n_b}\\rangle$, $|1\\rangle = |\\downarrow_{0} \\uparrow_{1} \\dots \\downarrow_{n_b}\\rangle$, ..., $|n_b\\rangle = |\\downarrow_{0} \\downarrow_{1} \\dots \\uparrow_{n_b}\\rangle$.  We encode these states on a line of qubits labeled ${0, 1, \\dots, n_b}$.  The operators which will achieve the equivalent behavior of the creation and annihilation operators are given by\n",
    "\\begin{equation}\n",
    "a = \\sum_{k=0}^{n_b-1} \\sqrt{k+1} \\sigma^{+}_{k} \\sigma^{-}_{k+1}\n",
    "\\end{equation}\n",
    "and \n",
    "\\begin{equation}\n",
    "a^{\\dagger} = \\sum_{k=0}^{n_b-1} \\sqrt{k+1} \\sigma^{-}_{k} \\sigma^{+}_{k+1}\n",
    "\\end{equation}\n",
    "Under this encoding, the number operator, $a^{\\dagger}a$ will simply become\n",
    "\\begin{equation}\n",
    "a^{\\dagger}a = \\sum_{k=1}^{n_b} k \\frac{\\sigma^{z} + I}{2}\n",
    "\\end{equation}\n",
    "The two level quantum systems will then interact with all of the sites for the bosonic encoding to obtain the effect of the interaction.  Below we show what this encoding looks like for a small $n_s$ and $n_b$."
   ]
  },
  {
   "cell_type": "code",
   "execution_count": 9,
   "metadata": {
    "tags": []
   },
   "outputs": [],
   "source": [
    "import time\n",
    "import numpy as np\n",
    "from networkx import get_node_attributes, draw\n",
    "from qca.utils.algo_utils import gsee_resource_estimation\n",
    "from qca.utils.utils import EstimateMetaData\n",
    "from qca.utils.hamiltonian_utils import (\n",
    "    generate_dicke_model_nx, dicke_model_qubit_hamiltonian, tavis_cummings_model_qubit_hamiltonian,\n",
    "    bosonic_annihilation_operator, bosonic_creation_operator, bosonic_number_operator)"
   ]
  },
  {
   "cell_type": "code",
   "execution_count": 10,
   "metadata": {
    "tags": []
   },
   "outputs": [
    {
     "name": "stdout",
     "output_type": "stream",
     "text": [
      "creation:\n",
      "0.25 [X0 X1] +\n",
      "0.25j [X0 Y1] +\n",
      "-0.25j [Y0 X1] +\n",
      "(0.25+0j) [Y0 Y1] +\n",
      "0.3535533905932738 [X1 X2] +\n",
      "0.3535533905932738j [X1 Y2] +\n",
      "-0.3535533905932738j [Y1 X2] +\n",
      "(0.3535533905932738+0j) [Y1 Y2]\n",
      "\n",
      "annihilation:\n",
      "0.25 [X0 X1] +\n",
      "-0.25j [X0 Y1] +\n",
      "0.25j [Y0 X1] +\n",
      "(0.25+0j) [Y0 Y1] +\n",
      "0.3535533905932738 [X1 X2] +\n",
      "-0.3535533905932738j [X1 Y2] +\n",
      "0.3535533905932738j [Y1 X2] +\n",
      "(0.3535533905932738+0j) [Y1 Y2]\n",
      "\n",
      "number:\n",
      "1.5 [] +\n",
      "0.5 [Z1] +\n",
      "1.0 [Z2]\n",
      "\n",
      "Dicke Hamiltonian\n",
      "3.0 [] +\n",
      "0.5 [X0 X1 X3] +\n",
      "0.5 [X0 X1 X4] +\n",
      "0.5 [X0 X1 X5] +\n",
      "(0.5+0j) [Y0 Y1 X3] +\n",
      "(0.5+0j) [Y0 Y1 X4] +\n",
      "(0.5+0j) [Y0 Y1 X5] +\n",
      "0.7071067811865476 [X1 X2 X3] +\n",
      "0.7071067811865476 [X1 X2 X4] +\n",
      "0.7071067811865476 [X1 X2 X5] +\n",
      "(0.7071067811865476+0j) [Y1 Y2 X3] +\n",
      "(0.7071067811865476+0j) [Y1 Y2 X4] +\n",
      "(0.7071067811865476+0j) [Y1 Y2 X5] +\n",
      "0.5 [Z1] +\n",
      "1.0 [Z2] +\n",
      "0.5 [Z3] +\n",
      "0.5 [Z4] +\n",
      "0.5 [Z5]\n",
      "\n",
      "Tavis-Cummings Hamiltonian\n",
      "3.0 [] +\n",
      "0.25 [X0 X1 X3] +\n",
      "0.25 [X0 X1 X4] +\n",
      "0.25 [X0 X1 X5] +\n",
      "(0.25+0j) [X0 Y1 Y3] +\n",
      "(0.25+0j) [X0 Y1 Y4] +\n",
      "(0.25+0j) [X0 Y1 Y5] +\n",
      "(-0.25+0j) [Y0 X1 Y3] +\n",
      "(-0.25+0j) [Y0 X1 Y4] +\n",
      "(-0.25+0j) [Y0 X1 Y5] +\n",
      "(0.25+0j) [Y0 Y1 X3] +\n",
      "(0.25+0j) [Y0 Y1 X4] +\n",
      "(0.25+0j) [Y0 Y1 X5] +\n",
      "0.3535533905932738 [X1 X2 X3] +\n",
      "0.3535533905932738 [X1 X2 X4] +\n",
      "0.3535533905932738 [X1 X2 X5] +\n",
      "(0.3535533905932738+0j) [X1 Y2 Y3] +\n",
      "(0.3535533905932738+0j) [X1 Y2 Y4] +\n",
      "(0.3535533905932738+0j) [X1 Y2 Y5] +\n",
      "(-0.3535533905932738+0j) [Y1 X2 Y3] +\n",
      "(-0.3535533905932738+0j) [Y1 X2 Y4] +\n",
      "(-0.3535533905932738+0j) [Y1 X2 Y5] +\n",
      "(0.3535533905932738+0j) [Y1 Y2 X3] +\n",
      "(0.3535533905932738+0j) [Y1 Y2 X4] +\n",
      "(0.3535533905932738+0j) [Y1 Y2 X5] +\n",
      "0.5 [Z1] +\n",
      "1.0 [Z2] +\n",
      "0.5 [Z3] +\n",
      "0.5 [Z4] +\n",
      "0.5 [Z5]\n"
     ]
    },
    {
     "data": {
      "image/png": "[encoded data removed]",
      "text/plain": [
       "<Figure size 640x480 with 1 Axes>"
      ]
     },
     "metadata": {},
     "output_type": "display_data"
    }
   ],
   "source": [
    "#Generating a 20x20 Fermi Hubbard model with a single band.  The ratio between Tunneling and Coulomb parameters can be swept to search for the appropriate mean electron filling.\n",
    "n_s = 3\n",
    "n_b = 2\n",
    "g_dicke = generate_dicke_model_nx(\n",
    "    n_s=n_s,\n",
    "    n_b=n_b\n",
    ")\n",
    "\n",
    "creation = bosonic_creation_operator(n_b)\n",
    "annihilation = bosonic_annihilation_operator(n_b)\n",
    "number = bosonic_number_operator(n_b)\n",
    "H_dicke = dicke_model_qubit_hamiltonian(\n",
    "    n_s = n_s,\n",
    "    n_b = n_b,\n",
    "    omega_c = 1,\n",
    "    omega_o = 1,\n",
    "    lam = 1\n",
    ")\n",
    "H_tavis_cummings = tavis_cummings_model_qubit_hamiltonian(\n",
    "    n_s = n_s,\n",
    "    n_b = n_b,\n",
    "    omega_c = 1,\n",
    "    omega_o = 1,\n",
    "    lam = 1\n",
    ")\n",
    "print('creation:')\n",
    "print(creation)\n",
    "print()\n",
    "print('annihilation:')\n",
    "print(annihilation)\n",
    "print()\n",
    "print('number:')\n",
    "print(number)\n",
    "print()\n",
    "print('Dicke Hamiltonian')\n",
    "print(H_dicke)\n",
    "print()\n",
    "print('Tavis-Cummings Hamiltonian')\n",
    "print(H_tavis_cummings)\n",
    "#print(g_dicke.nodes)\n",
    "#print(g_dicke.edges)\n",
    "pos = get_node_attributes(g_dicke, 'pos')\n",
    "labels = get_node_attributes(g_dicke, 'label')\n",
    "draw(g_dicke, pos=pos, labels=labels, with_labels=True)\n",
    "#n = 20\n",
    "#tunneling = 1\n",
    "#coulomb = 8\n",
    "#ham_one_band = of.fermi_hubbard(n, n, tunneling=tunneling, coulomb=coulomb, periodic=False) #returns an aperiodic fermionic hamiltonian"
   ]
  },
  {
   "cell_type": "markdown",
   "metadata": {},
   "source": [
    "## Dicke Model Ground State Energy Computations"
   ]
  },
  {
   "cell_type": "markdown",
   "metadata": {},
   "source": [
    "Now that we have the Hamiltonian generated, we need to generate an initial state with non-vanishing overlap with the ground state (or the low energy subspace).  This can reasonably be achieved by using mean field methods like Hartree-Fock.  This is an advantageous approach since Hartree-Fock will generate a product state, which should be easily prepared using local operations.  We are currently looking for a good implementation, so we do not currently have this portion incorporated into this notebook, but it will hopefully be implemented in the coming weeks."
   ]
  },
  {
   "cell_type": "code",
   "execution_count": 11,
   "metadata": {
    "tags": []
   },
   "outputs": [],
   "source": [
    "#TODO: Incorporate Hartree-Fock into this section to prepare the initial state for QPE for GSEE.\n",
    "#This should provide a low depth initialization circuit relative to the depth of the QPE, while giving access to a low-energy subspace"
   ]
  },
  {
   "cell_type": "markdown",
   "metadata": {},
   "source": [
    "Once the initial state has been prepared, we can now perform Quantum Phase Estimation to estimate the ground state energy.  Currently we are using a short evolution time and a second order trotterization with a single step.  We use scaling arguments to determine the final resources since generating the full circuit for a large number of trotter steps with many bits of precision is quite costly.  The circuit depth scales linearly with the number of trotter steps and exponentially base 2 for the number of bits of precision.  This means that all of the resource estimates will be rather large.  It should be noted that more recently, there has been an implementation released in pyLIQTR for using Quantum Phase Estimation with Quantum Signal Processing as a sub-process.  Whether this can yield an improvement in resource requirements has yet to be explored. We would like to find results with a precision on the order of $10^{-3}$, so we are using 10 bits of precision."
   ]
  },
  {
   "cell_type": "code",
   "execution_count": 12,
   "metadata": {
    "tags": []
   },
   "outputs": [
    {
     "name": "stdout",
     "output_type": "stream",
     "text": [
      "starting\n"
     ]
    }
   ],
   "source": [
    "#defining parameters\n",
    "n_s = 10 #using 10 instead of 100 for runtime\n",
    "n_b = 10 #using 10 instead of 100 for runtime\n",
    "omega_c = 1.3\n",
    "omega_o = 1 #offset that won't affect ground state\n",
    "lam = 1.5\n",
    "h_bar = 1\n",
    "\n",
    "ham_dicke = dicke_model_qubit_hamiltonian(\n",
    "    n_s = n_s,\n",
    "    n_b = n_b,\n",
    "    omega_c = omega_c,\n",
    "    omega_o = omega_o,\n",
    "    lam = lam\n",
    ")\n",
    "trotter_order_dicke = 2\n",
    "trotter_steps_dicke = 1\n",
    "\n",
    "#this scales the circuit depth proportional to 2 ^ bits_precision\n",
    "bits_precision_dicke = 10\n",
    "\n",
    "E_min_dicke = -len(ham_dicke.terms)\n",
    "E_max_dicke = 0\n",
    "dicke_omega = E_max_dicke-E_min_dicke\n",
    "t_dicke = 2*np.pi/dicke_omega\n",
    "dicke_phase_offset = E_max_dicke*t_dicke\n",
    "\n",
    "args_dicke = {\n",
    "    'trotterize' : True,\n",
    "    'mol_ham'    : ham_dicke,\n",
    "    'ev_time'    : t_dicke,\n",
    "    'trot_ord'   : trotter_order_dicke,\n",
    "    'trot_num'   : 1 #handling adjustment in resource estimate to save time - scales circuit depth linearly.\n",
    "}\n",
    "\n",
    "\n",
    "init_state_dicke = [0] * (n_b + n_s + 1) #TODO: use Fock state from Hartree-Fock as initial state\n",
    "\n",
    "print('starting')\n",
    "total_value = 0\n",
    "repetitions = 1\n",
    "value_per_circuit=total_value / repetitions\n",
    "dicke_metadata = EstimateMetaData(\n",
    "    id=time.time_ns(),\n",
    "    name='DickeModel',\n",
    "    category='scientific',\n",
    "    size=f'{n_b} + 1 + {n_s}',\n",
    "    task='Ground State Energy Estimation',\n",
    "    implementations=f'GSEE, evolution_time={t_dicke}, bits_precision={bits_precision_dicke}, trotter_order={trotter_order_dicke}, n_s={n_s}, n_b={n_b}',\n",
    "    value_per_circuit=value_per_circuit,\n",
    "    repetitions_per_application=repetitions\n",
    ")"
   ]
  },
  {
   "cell_type": "markdown",
   "metadata": {},
   "source": [
    "Now we need to convert the GSEE circuit to Clifford + T and write the data to a file"
   ]
  },
  {
   "cell_type": "code",
   "execution_count": 13,
   "metadata": {
    "tags": []
   },
   "outputs": [
    {
     "name": "stdout",
     "output_type": "stream",
     "text": [
      "Estimating Dicke\n",
      "Time to generate circuit for GSEE: 4.2208004742860794e-05 seconds\n",
      "   Time to decompose high level HPowGate circuit: 8.612498641014099e-05 seconds \n",
      "   Time to transform decomposed HPowGate circuit to Clifford+T: 0.00018929201178252697 seconds\n",
      "   Time to decompose high level IdentityGate circuit: 1.3249926269054413e-05 seconds \n",
      "   Time to transform decomposed IdentityGate circuit to Clifford+T: 3.2499665394425392e-06 seconds\n",
      "   Time to decompose high level PhaseOffset circuit: 7.433409336954355e-05 seconds \n",
      "   Time to transform decomposed PhaseOffset circuit to Clifford+T: 7.695797830820084e-05 seconds\n",
      "   Time to decompose high level Trotter_Unitary circuit: 0.4055276250001043 seconds \n",
      "   Time to transform decomposed Trotter_Unitary circuit to Clifford+T: 3.4485969999805093 seconds\n",
      "   Time to decompose high level MeasurementGate circuit: 0.001431209035217762 seconds \n",
      "   Time to transform decomposed MeasurementGate circuit to Clifford+T: 5.054206121712923e-05 seconds\n",
      "Time to estimate dicke: 6.783997792052105\n"
     ]
    }
   ],
   "source": [
    "print('Estimating Dicke')\n",
    "t0 = time.perf_counter()\n",
    "estimate = gsee_resource_estimation(\n",
    "    outdir='GSE/DickeModel/',\n",
    "    numsteps=trotter_steps_dicke,\n",
    "    gsee_args=args_dicke,\n",
    "    init_state=init_state_dicke,\n",
    "    precision_order=1, #actual precision bits accounted as scaling factors in the resource estimate\n",
    "    phase_offset=dicke_phase_offset,\n",
    "    bits_precision=bits_precision_dicke,\n",
    "    circuit_name='DickeModelExample',\n",
    "    metadata = dicke_metadata,\n",
    "    write_circuits=True\n",
    ")\n",
    "t1 = time.perf_counter()\n",
    "print(f'Time to estimate dicke: {t1-t0}')"
   ]
  },
  {
   "cell_type": "markdown",
   "metadata": {},
   "source": [
    "## Tavis-Cummings Model Ground State Energy Computations"
   ]
  },
  {
   "cell_type": "markdown",
   "metadata": {},
   "source": [
    "Now that we have the Hamiltonian generated, we need to generate an initial state with non-vanishing overlap with the ground state (or the low energy subspace).  This can reasonably be achieved by using mean field methods like Hartree-Fock.  This is an advantageous approach since Hartree-Fock will generate a product state, which should be easily prepared using local operations.  We are currently looking for a good implementation, so we do not currently have this portion incorporated into this notebook, but it will hopefully be implemented in the coming weeks."
   ]
  },
  {
   "cell_type": "code",
   "execution_count": 14,
   "metadata": {
    "tags": []
   },
   "outputs": [],
   "source": [
    "#TODO: Incorporate Hartree-Fock into this section to prepare the initial state for QPE for GSEE.\n",
    "#This should provide a low depth initialization circuit relative to the depth of the QPE, while giving access to a low-energy subspace"
   ]
  },
  {
   "cell_type": "markdown",
   "metadata": {},
   "source": [
    "Once the initial state has been prepared, we can now perform Quantum Phase Estimation to estimate the ground state energy.  Currently we are using a short evolution time and a second order trotterization with a single step.  We use scaling arguments to determine the final resources since generating the full circuit for a large number of trotter steps with many bits of precision is quite costly.  The circuit depth scales linearly with the number of trotter steps and exponentially base 2 for the number of bits of precision.  This means that all of the resource estimates will be rather large.  It should be noted that more recently, there has been an implementation released in pyLIQTR for using Quantum Phase Estimation with Quantum Signal Processing as a sub-process.  Whether this can yield an improvement in resource requirements has yet to be explored. We would like to find results with a precision on the order of $10^{-3}$, so we are using 10 bits of precision."
   ]
  },
  {
   "cell_type": "code",
   "execution_count": 15,
   "metadata": {
    "tags": []
   },
   "outputs": [
    {
     "name": "stdout",
     "output_type": "stream",
     "text": [
      "<class 'openfermion.ops.operators.qubit_operator.QubitOperator'>\n",
      "starting\n"
     ]
    }
   ],
   "source": [
    "#defining parameters\n",
    "n_s = 10 #using 10 instead of 100 for runtime\n",
    "n_b = 10 #using 10 instead of 100 for runtime\n",
    "omega_c = 1.3\n",
    "omega_o = 1 #offset that won't affect ground state\n",
    "lam = 1.5\n",
    "h_bar = 1\n",
    "\n",
    "ham_tavis_cummings = tavis_cummings_model_qubit_hamiltonian(n_s = n_s, n_b = n_b, omega_c = omega_c, omega_o = omega_o, lam = lam)\n",
    "trotter_order_tavis_cummings = 2\n",
    "trotter_steps_tavis_cummings = 1\n",
    "\n",
    "#this scales the circuit depth proportional to 2 ^ bits_precision\n",
    "bits_precision_tavis_cummings = 10\n",
    "\n",
    "E_min_tavis_cummings = -len(ham_tavis_cummings.terms)\n",
    "E_max_tavis_cummings = 0\n",
    "tavis_cummings_omega = E_max_tavis_cummings-E_min_tavis_cummings\n",
    "t_tavis_cummings = 2*np.pi/tavis_cummings_omega\n",
    "tavis_cummings_phase_offset = E_max_tavis_cummings*t_tavis_cummings\n",
    "\n",
    "args_tavis_cummings = {\n",
    "    'trotterize' : True,\n",
    "    'mol_ham'    : ham_tavis_cummings,\n",
    "    'ev_time'    : t_tavis_cummings,\n",
    "    'trot_ord'   : trotter_order_tavis_cummings,\n",
    "    'trot_num'   : 1 #handling adjustment in resource estimate to save time - scales circuit depth linearly.\n",
    "}\n",
    "\n",
    "\n",
    "init_state_tavis_cummings = [0] * (n_b + n_s + 1) #TODO: use Fock state from Hartree-Fock as initial state\n",
    "\n",
    "print('starting')\n",
    "total_value = 0\n",
    "repetitions = 1\n",
    "value_per_circuit=total_value / repetitions\n",
    "tavis_cummings_metadata = EstimateMetaData(\n",
    "    id=time.time_ns(),\n",
    "    name='TavisCummingsModel',\n",
    "    category='scientific',\n",
    "    size=f'{n_b} + 1 + {n_s}',\n",
    "    task='Ground State Energy Estimation',\n",
    "    implementations=f'GSEE, evolution_time={t_tavis_cummings}, bits_precision={bits_precision_tavis_cummings}, trotter_order={trotter_order_tavis_cummings}, n_s={n_s}, n_b={n_b}',\n",
    "    value_per_circuit=value_per_circuit,\n",
    "    repetitions_per_application=repetitions\n",
    ")"
   ]
  },
  {
   "cell_type": "markdown",
   "metadata": {},
   "source": [
    "Now we need to convert the GSEE circuit to Clifford + T and write the data to a file"
   ]
  },
  {
   "cell_type": "code",
   "execution_count": 16,
   "metadata": {
    "tags": []
   },
   "outputs": [
    {
     "name": "stdout",
     "output_type": "stream",
     "text": [
      "Estimating tavis_cummings\n",
      "Time to generate circuit for GSEE: 4.183291457593441e-05 seconds\n",
      "   Time to decompose high level HPowGate circuit: 8.395896293222904e-05 seconds \n",
      "   Time to transform decomposed HPowGate circuit to Clifford+T: 0.00019545794930309057 seconds\n",
      "   Time to decompose high level IdentityGate circuit: 1.2749922461807728e-05 seconds \n",
      "   Time to transform decomposed IdentityGate circuit to Clifford+T: 3.832974471151829e-06 seconds\n",
      "   Time to decompose high level PhaseOffset circuit: 7.833307608962059e-05 seconds \n",
      "   Time to transform decomposed PhaseOffset circuit to Clifford+T: 8.67500202730298e-05 seconds\n",
      "   Time to decompose high level Trotter_Unitary circuit: 0.7705561659531668 seconds \n",
      "   Time to transform decomposed Trotter_Unitary circuit to Clifford+T: 4.374742791987956 seconds\n",
      "   Time to decompose high level MeasurementGate circuit: 0.0025906249647960067 seconds \n",
      "   Time to transform decomposed MeasurementGate circuit to Clifford+T: 5.0582922995090485e-05 seconds\n",
      "Time to estimate tavis_cummings: 10.892113291076384\n"
     ]
    }
   ],
   "source": [
    "print('Estimating tavis_cummings')\n",
    "t0 = time.perf_counter()\n",
    "estimate = gsee_resource_estimation(\n",
    "    outdir='GSE/TavisCummings/',\n",
    "    numsteps=trotter_steps_tavis_cummings,\n",
    "    gsee_args=args_tavis_cummings,\n",
    "    init_state=init_state_tavis_cummings,\n",
    "    precision_order=1, #actual precision bits accounted as scaling factors in the resource estimate\n",
    "    phase_offset=tavis_cummings_phase_offset,\n",
    "    bits_precision=bits_precision_tavis_cummings,\n",
    "    circuit_name='TavisCummingsModelExample',\n",
    "    metadata = tavis_cummings_metadata,\n",
    "    write_circuits=True\n",
    ")\n",
    "t1 = time.perf_counter()\n",
    "print(f'Time to estimate tavis_cummings: {t1-t0}')"
   ]
  },
  {
   "cell_type": "code",
   "execution_count": null,
   "metadata": {},
   "outputs": [],
   "source": []
  }
 ],
 "metadata": {
  "kernelspec": {
   "display_name": "other_qca",
   "language": "python",
   "name": "python3"
  },
  "language_info": {
   "codemirror_mode": {
    "name": "ipython",
    "version": 3
   },
   "file_extension": ".py",
   "mimetype": "text/x-python",
   "name": "python",
   "nbconvert_exporter": "python",
   "pygments_lexer": "ipython3",
   "version": "3.11.9"
  }
 },
 "nbformat": 4,
 "nbformat_minor": 4
}
