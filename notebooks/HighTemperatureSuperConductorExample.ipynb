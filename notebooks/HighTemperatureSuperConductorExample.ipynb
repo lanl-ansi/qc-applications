{
 "cells": [
  {
   "cell_type": "markdown",
   "metadata": {},
   "source": [
    "# Fermi Hubbard Ground State Energy Estimation with Quantum Circuits"
   ]
  },
  {
   "cell_type": "markdown",
   "metadata": {},
   "source": [
    "## Single Band"
   ]
  },
  {
   "cell_type": "markdown",
   "metadata": {},
   "source": [
    "The Fermi-Hubbard model is often used to predict the behavior of the electrons of proposed superconductors.  It has the advantage of being simply stated while describing a variety of phenomena relating to the phases of real-world materials such as the transition between superconducting and Mott insulator phases.  In order to understand the behavior of the Fermi-Hubbard model at high temperatures, it is first critical to understand the phase diagram of the Fermi-Hubbard model at absolute zero (with no heat-bath present).  To achieve this, one must understand the ground state energy of the model with various filling coefficients.  In this notebook, we will show the necessary steps to perform this analysis on a quantum computer.\n",
    "\n",
    "The most basic form of the Fermi-Hubbard model with a single band can be represented through the following equation:\n",
    "\n",
    "\\begin{equation}\n",
    "H = -\\sum_{( i,j )}\\sum_{\\sigma \\in \\{ \\uparrow, \\downarrow \\}} t_{i,j} c^{\\dagger}_{i,\\sigma} c_{j,\\sigma} \n",
    "  + U \\sum c^{\\dagger}_{i,\\uparrow} c^{\\dagger}_{i,\\downarrow} c_{i,\\downarrow} c_{i, \\uparrow}\n",
    "\\end{equation}\n",
    "\n",
    "which can be equivavlently written as \n",
    "\n",
    "\\begin{equation}\n",
    "H = -\\sum_{( i,j )}\\sum_{\\sigma \\in \\{ \\uparrow, \\downarrow \\}} t_{i,j} c^{\\dagger}_{i,\\sigma} c_{j,\\sigma} \n",
    "  + U \\sum n_{i, \\uparrow} n_{i, \\downarrow}\n",
    "\\end{equation}\n",
    "\n",
    "where $c^{\\dagger}_{i, \\uparrow}$ is the fermionic creation operator on site $i$ with a spin $\\uparrow$ and $c_{i, \\uparrow}$ is the fermionic annihilation operator on site $i$ with a spin $\\uparrow$.  The number operator on site $i$ with spin $\\uparrow$ is given by $n_{i, \\uparrow} = c^{\\dagger}_{i, \\uparrow} c_{i, \\uparrow}$.  We will assume that the interactions are occurring on a 2-d square lattice, defining the site connectivity $(i,j)$. The coefficients $t_{i,j}$ represent the affinity for tunnelling between two orbitals at sites $i$ and $j$ and the coefficient $U$ represents the strength of the Coulomb interaction between electrons on the same orbital.\n",
    "\n",
    "There are 3 steps to estimate the ground state energy of this Hamiltonian:\n",
    "\n",
    "1. Prepare an initial state believed to have non-vanishing overlap with the actual ground state of the input Hamiltonian.  This is believed to be reasonably achieved by first using the classical Hartree-Fock Approximation to prepare a product state with low energy and applying local unitary rotations to the $|0...0\\rangle$ state.\n",
    "\n",
    "2. Perform Ground State Energy Estimation to determine the configuration of low energy states of the input Hamiltonian. The Hamiltonian must first be transformed into a Hamiltonian represented in the Pauli Basis by applying a transformation such as either the Jordan-Wigner Transformation or the Bravyi-Kitaev Transformation.\n",
    "\n",
    "3. Measure autocorrelation operators $\\frac{1}{2} \\langle \\Delta_{i,j} + \\Delta_{i,j}^{\\dagger}\\rangle$ where $\\Delta_{i,j} = \\langle c_{i+}c_{j-} - c_{i-}c_{j+} \\rangle$.  This can be achieved by applying the same transformation used in 2. and applying that Pauli operator as a rotation to translate the observable into the Pauli basis.\n",
    "\n",
    "This procedure can be repeated for input states with various electron fillings to compute the phase diagram for the system.\n",
    "\n"
   ]
  },
  {
   "cell_type": "code",
   "execution_count": 1,
   "metadata": {
    "tags": []
   },
   "outputs": [
    {
     "name": "stderr",
     "output_type": "stream",
     "text": [
      "/Users/jonhas/anaconda3/envs/other/lib/python3.12/site-packages/cotengra/hyperoptimizers/hyper.py:33: UserWarning: Couldn't import `kahypar` - skipping from default hyper optimizer and using basic `labels` method instead.\n",
      "  warnings.warn(\n"
     ]
    }
   ],
   "source": [
    "import time\n",
    "\n",
    "import openfermion as of\n",
    "\n",
    "import numpy as np\n",
    "\n",
    "from networkx import get_node_attributes, draw, draw_networkx_edge_labels\n",
    "\n",
    "from qca.utils.utils import EstimateMetaData\n",
    "from qca.utils.algo_utils import gsee_resource_estimation\n",
    "from qca.utils.hamiltonian_utils import (generate_two_orbital_nx, nx_to_two_orbital_hamiltonian,\n",
    "     generate_three_orbital_nx, nx_to_three_orbital_hamiltonian)"
   ]
  },
  {
   "cell_type": "code",
   "execution_count": 2,
   "metadata": {
    "tags": []
   },
   "outputs": [],
   "source": [
    "#Generating a 20x20 Fermi Hubbard model with a single band.  The ratio between Tunneling and Coulomb parameters can be swept to search for the appropriate mean electron filling.\n",
    "n = 20\n",
    "####START UNCOMMENT FOR TESTING\n",
    "n = 2\n",
    "####END UNCOMMENT FOR TESTING\n",
    "tunneling = 1\n",
    "coulomb = 8\n",
    "ham_one_band = of.fermi_hubbard(n, n, tunneling=tunneling, coulomb=coulomb, periodic=False) #returns an aperiodic fermionic hamiltonian"
   ]
  },
  {
   "cell_type": "markdown",
   "metadata": {},
   "source": [
    "Now that we have the Hamiltonian generated, we need to generate an initial state with non-vanishing overlap with the ground state (or the low energy subspace).  This can reasonably be achieved by using mean field methods like Hartree-Fock.  This is an advantageous approach since Hartree-Fock will generate a product state, which should be easily prepared using local operations.  We are currently looking for good implementations for the Fermi-Hubbard model, so we do not currently have this portion incorporated into this notebook, but it will be implemented in the coming weeks."
   ]
  },
  {
   "cell_type": "code",
   "execution_count": 3,
   "metadata": {
    "tags": []
   },
   "outputs": [],
   "source": [
    "#TODO: Incorporate Hartree-Fock into this section to prepare the initial state for QPE for GSEE.\n",
    "#This should provide a low depth initialization circuit relative to the depth of the QPE, while giving access to a low-energy subspace"
   ]
  },
  {
   "cell_type": "markdown",
   "metadata": {},
   "source": [
    "Once the initial state has been prepared, we can now perform Quantum Phase Estimation to estimate the ground state energy.  Currently we are using a short evolution time and a second order trotterization with a single step.  We use scaling arguments to determine the final resources since generating the full circuit for a large number of trotter steps with many bits of precision is quite costly.  The circuit depth scales linearly with the number of trotter steps and exponentially base 2 for the number of bits of precision.  This means that all of the resource estimates will be rather large.  It should be noted that more recently, there has been an implementation released in pyLIQTR for using Quantum Phase Estimation with Quantum Signal Processing as a sub-process.  Whether this can yield an improvement in resource requirements has yet to be explored. We would like to find results with a precision on the order of $10^{-5}$, so we are using 16 bits of precision."
   ]
  },
  {
   "cell_type": "code",
   "execution_count": 4,
   "metadata": {
    "tags": []
   },
   "outputs": [],
   "source": [
    "trotter_order_one_band = 2\n",
    "trotter_steps_one_band = 1 #Using one trotter step for a strict lower bound with this method\n",
    "\n",
    "#this scales the circuit depth proportional to 2 ^ bits_precision\n",
    "bits_precision_one_band = 16\n",
    "\n",
    "E_min_one_band = -len(ham_one_band.terms)\n",
    "E_max_one_band = 0\n",
    "one_band_omega = E_max_one_band-E_min_one_band\n",
    "t_one_band = 2*np.pi/one_band_omega\n",
    "one_band_phase_offset = E_max_one_band*t_one_band\n",
    "\n",
    "args_one_band = {\n",
    "    'trotterize' : True,\n",
    "    'mol_ham'    : ham_one_band,\n",
    "    'ev_time'    : t_one_band,\n",
    "    'trot_ord'   : trotter_order_one_band,\n",
    "    'trot_num'   : 1 #handling adjustment in resource estimate to save time - scales circuit depth linearly.\n",
    "}\n",
    "\n",
    "\n",
    "init_state_one_band = [0] * n * n * 2 #TODO: use Fock state from Hartree-Fock as initial state\n",
    "\n",
    "one_band_metadata = EstimateMetaData(\n",
    "    id=2000,\n",
    "    name='FermiHubbard_One_Band',\n",
    "    category='scientific',\n",
    "    size=f'{n}x{n}',\n",
    "    task='Ground State Energy Estimation',\n",
    "    implementations=f'GSEE, evolution_time={t_one_band}, bits_precision={bits_precision_one_band}, trotter_order={trotter_order_one_band}',\n",
    ")"
   ]
  },
  {
   "cell_type": "markdown",
   "metadata": {},
   "source": [
    "Now we need to convert the GSEE circuit to Clifford + T and write the data to a file"
   ]
  },
  {
   "cell_type": "code",
   "execution_count": 5,
   "metadata": {
    "tags": []
   },
   "outputs": [
    {
     "name": "stdout",
     "output_type": "stream",
     "text": [
      "Estimating one_band\n",
      "Time to generate circuit for GSEE: 7.10420008545043e-05 seconds\n",
      "   Time to decompose high level HPowGate circuit: 0.00018562500008556526 seconds \n",
      "   Time to transform decomposed HPowGate circuit to Clifford+T: 0.0005207089998293668 seconds\n",
      "   Time to decompose high level IdentityGate circuit: 1.5208001059363596e-05 seconds \n",
      "   Time to transform decomposed IdentityGate circuit to Clifford+T: 4.667001121561043e-06 seconds\n",
      "   Time to decompose high level PhaseOffset circuit: 8.129200068651699e-05 seconds \n",
      "   Time to transform decomposed PhaseOffset circuit to Clifford+T: 9.4541001089965e-05 seconds\n",
      "   Time to decompose high level Trotter_Unitary circuit: 0.04967725000096834 seconds \n",
      "   Time to transform decomposed Trotter_Unitary circuit to Clifford+T: 0.4006794169999921 seconds\n",
      "   Time to decompose high level MeasurementGate circuit: 0.00022004200036462862 seconds \n",
      "   Time to transform decomposed MeasurementGate circuit to Clifford+T: 7.874999937484972e-05 seconds\n",
      "Time to estimate one_band: 0.8638855830013199\n"
     ]
    }
   ],
   "source": [
    "print('Estimating one_band')\n",
    "t0 = time.perf_counter()\n",
    "gsee_resource_estimation(\n",
    "    outdir='GSE/FermiHubbard/',\n",
    "    numsteps=trotter_steps_one_band,\n",
    "    gsee_args=args_one_band,\n",
    "    init_state=init_state_one_band,\n",
    "    precision_order=1,\n",
    "    bits_precision=bits_precision_one_band,\n",
    "    phase_offset=one_band_phase_offset,\n",
    "    circuit_name='one_band',\n",
    "    metadata=one_band_metadata,\n",
    "    write_circuits=True\n",
    ")\n",
    "t1 = time.perf_counter()\n",
    "print(f'Time to estimate one_band: {t1-t0}')"
   ]
  },
  {
   "cell_type": "markdown",
   "metadata": {},
   "source": [
    "After Ground State Energy Estimation has been performed, we need to measure the autocorrelation, $\\frac{1}{2} \\langle \\Delta_{i,j} + \\Delta_{i,j}^{\\dagger}\\rangle$ where $\\Delta_{i,j} = \\langle c_{i+}c_{j-} - c_{i-}c_{j+} \\rangle$.  For the case where $i = j = 0$ is in the middle of the lattice, one can rotate into the Pauli basis using the following transformation.  We will label the qubit representing site $i+$ as qubit 1 and the qubit representing site $i-$ as qubit 2.  Given $U = CNOT_{i+,i-} H_{i+} CNOT_{i+,i-}$, it can be shown that $U^\\dagger (c_{i+}c_{i-} - c_{i-}c_{i+}) U = -2 |\\uparrow \\uparrow \\rangle \\langle \\uparrow \\uparrow | + 2 |\\downarrow \\downarrow \\rangle \\langle \\downarrow \\downarrow|$.  This means that by simply applying the circuit $U$, then measuring, we can observe the autocorrelation.  This introduces 3 Clifford operations and no T gates.\n",
    "\n",
    "A similar operation, though acting on 4 qubits rather than 2 qubits, can be achieved in a similarly low constant circuit depth for the case where $i \\neq j$."
   ]
  },
  {
   "cell_type": "markdown",
   "metadata": {},
   "source": [
    "## Two band"
   ]
  },
  {
   "cell_type": "markdown",
   "metadata": {},
   "source": [
    "We can now apply the same process for the two band model as well.  Consider the two orbital tight binding Fermi Hubbard Model for cuprate superconductors (seen for example [here](http://sces.phys.utk.edu/publications/Pub2011/7-FOP-11107-ED.pdf)) on a square lattice:\n",
    "\n",
    "\\begin{equation}\n",
    "\\begin{split}\n",
    "    H_{TB} & = -t_1 \\sum_{i,\\sigma} \\left( d^{\\dagger}_{i,x,\\sigma}d_{i+\\hat{y},x,\\sigma} +  d^{\\dagger}_{i,y,\\sigma}d_{i+\\hat{x}, y, \\sigma} + h.c. \\right) \\\\\n",
    "           & -t_2 \\sum_{i,\\sigma} \\left( d^{\\dagger}_{i,x,\\sigma}d_{i+\\hat{x},x,\\sigma} +  d^{\\dagger}_{i,y,\\sigma}d_{i+\\hat{y}, y, \\sigma} + h.c. \\right) \\\\\n",
    "           & -t_3 \\sum_{i,\\hat{\\mu}, \\hat{\\nu},\\sigma} \\left( d^{\\dagger}_{i,x,\\sigma}d_{i+\\hat{\\mu} + \\hat{\\nu},x,\\sigma} +  d^{\\dagger}_{i,y,\\sigma}d_{i+\\hat{\\mu} + \\hat{\\nu}, y, \\sigma} + h.c. \\right) \\\\\n",
    "           & +t_4 \\sum_{i,\\sigma} \\left( d^{\\dagger}_{i,x,\\sigma}d_{i+\\hat{x}+\\hat{y},y,\\sigma} +  d^{\\dagger}_{i,y,\\sigma}d_{i+\\hat{x}+\\hat{y},x,\\sigma} + h.c. \\right) \\\\\n",
    "           & -t_4 \\sum_{i,\\sigma} \\left( d^{\\dagger}_{i,x,\\sigma}d_{i+\\hat{x}-\\hat{y},y,\\sigma} +  d^{\\dagger}_{i,y,\\sigma}d_{i+\\hat{x}-\\hat{y},x,\\sigma} + h.c. \\right) \\\\\n",
    "           & -\\mu \\sum_{i} \\left( n_{i}^{x} + n_{i}^{y} \\right)\n",
    "\\end{split}\n",
    "\\end{equation}\n",
    "\n",
    "where $t_1 = -1.0, t_2 = 1.3, t_3 = t_4 = -0.85$ with operators $d^{\\dagger}_{i,\\alpha,\\sigma}$ and $d_{i,\\alpha,\\sigma}$ respectively create or annihilate electrons on an atom at site $i$, with orbital $\\alpha$, and spin $\\sigma$.  The operator $n^{\\alpha}_{i}$ represents the number operator of an atom at a given orbital, i.e. $n^x_i = \\sum_{\\sigma} \\left( d^{\\dagger}_{i,x,\\sigma} d_{i,x,\\sigma} \\right)$. The indices in the Hamiltonian are assigned in the following manner: the index $i$ will correspond to a 2-tuple $(m,n)$ indicating the x and y coordinates of the atom in the lattice.  Since there are 2 orbitals, $\\alpha \\in \\{x,y\\}$.  Lastly, $\\sigma \\in \\{\\uparrow, \\downarrow \\}$.  For the sake of simplicity of coding, we will remap these labels to integer values, meaning we will assign indices $m \\in L_x, n \\in L_y, a \\in \\mathbb{Z}^2, s \\in \\mathbb{Z}^2$ where $L_x$ is the $x$ dimension of the square lattice, and $L_y$ is the $y$ dimension of the square lattice.  In the summations, $\\hat{x}$ and $\\hat{y}$ correspond to adjacent sites in the lattice, rather than the orbitals.  The summation over unit vectors $\\hat{\\mu}$ and $\\hat{\\nu}$ correspond to the summing over unit vectors $\\hat{x}$ and $\\hat{y}$.  Note that where a summation is over $\\hat{\\mu}$ and $\\hat{\\nu}$, that it refers to both possible cross-plaquette interactions (next nearest neighbor interactions), but it does not refer to interactions between either nearest neighbors or next nearest neighbors two unit distances away in a single direction.\n",
    "\n",
    "We will consider two instances: one which represents the current capabilities of the best classical solvers (a 6x7 lattice), and one which represents the ideal capabilities of a quantum solver (a 20x20 lattice) of sites.  We want to obtain the results with a precision on the order of $10^{-5}$, so we will use 16 bits of precision."
   ]
  },
  {
   "cell_type": "code",
   "execution_count": 6,
   "metadata": {
    "tags": []
   },
   "outputs": [
    {
     "name": "stdout",
     "output_type": "stream",
     "text": [
      "[((0, 0, 0, 0), (0, 1, 0, 0), {'label': '-t1'}), ((0, 0, 0, 0), (1, 0, 0, 0), {'label': '-t2'}), ((0, 0, 0, 0), (1, 1, 0, 0), {'label': '-t3'}), ((0, 0, 0, 0), (1, 1, 1, 0), {'label': '+t4'}), ((0, 0, 0, 1), (0, 1, 0, 1), {'label': '-t1'}), ((0, 0, 0, 1), (1, 0, 0, 1), {'label': '-t2'}), ((0, 0, 0, 1), (1, 1, 0, 1), {'label': '-t3'}), ((0, 0, 0, 1), (1, 1, 1, 1), {'label': '+t4'}), ((0, 0, 1, 0), (1, 0, 1, 0), {'label': '-t1'}), ((0, 0, 1, 0), (0, 1, 1, 0), {'label': '-t2'}), ((0, 0, 1, 0), (1, 1, 1, 0), {'label': '-t3'}), ((0, 0, 1, 0), (1, 1, 0, 0), {'label': '+t4'}), ((0, 0, 1, 1), (1, 0, 1, 1), {'label': '-t1'}), ((0, 0, 1, 1), (0, 1, 1, 1), {'label': '-t2'}), ((0, 0, 1, 1), (1, 1, 1, 1), {'label': '-t3'}), ((0, 0, 1, 1), (1, 1, 0, 1), {'label': '+t4'}), ((0, 1, 0, 0), (1, 1, 0, 0), {'label': '-t2'}), ((0, 1, 0, 0), (1, 0, 0, 0), {'label': '-t3'}), ((0, 1, 0, 0), (1, 0, 1, 0), {'label': '-t4'}), ((0, 1, 0, 1), (1, 1, 0, 1), {'label': '-t2'}), ((0, 1, 0, 1), (1, 0, 0, 1), {'label': '-t3'}), ((0, 1, 0, 1), (1, 0, 1, 1), {'label': '-t4'}), ((0, 1, 1, 0), (1, 1, 1, 0), {'label': '-t1'}), ((0, 1, 1, 0), (1, 0, 1, 0), {'label': '-t3'}), ((0, 1, 1, 0), (1, 0, 0, 0), {'label': '-t4'}), ((0, 1, 1, 1), (1, 1, 1, 1), {'label': '-t1'}), ((0, 1, 1, 1), (1, 0, 1, 1), {'label': '-t3'}), ((0, 1, 1, 1), (1, 0, 0, 1), {'label': '-t4'}), ((1, 0, 0, 0), (1, 1, 0, 0), {'label': '-t1'}), ((1, 0, 0, 1), (1, 1, 0, 1), {'label': '-t1'}), ((1, 0, 1, 0), (1, 1, 1, 0), {'label': '-t2'}), ((1, 0, 1, 1), (1, 1, 1, 1), {'label': '-t2'})]\n"
     ]
    },
    {
     "data": {
      "image/png": "[encoded data removed]",
      "text/plain": [
       "<Figure size 640x480 with 1 Axes>"
      ]
     },
     "metadata": {},
     "output_type": "display_data"
    }
   ],
   "source": [
    "g_example = generate_two_orbital_nx(2,2)\n",
    "pos = get_node_attributes(g_example, 'pos')\n",
    "edge_labels = dict([((n1, n2), d['label']) for n1, n2, d in g_example.edges(data=True)]);\n",
    "draw(g_example, pos)\n",
    "draw_networkx_edge_labels(g_example,pos, edge_labels = edge_labels);\n",
    "\n",
    "print(g_example.edges(data=True))"
   ]
  },
  {
   "cell_type": "code",
   "execution_count": 7,
   "metadata": {
    "tags": []
   },
   "outputs": [
    {
     "data": {
      "text/plain": [
       "-1.0 [0^ 0] +\n",
       "1.0 [0^ 4] +\n",
       "-1.3 [0^ 8] +\n",
       "-0.85 [0^ 12] +\n",
       "0.85 [0^ 14] +\n",
       "-1.0 [1^ 1] +\n",
       "1.0 [1^ 5] +\n",
       "-1.3 [1^ 9] +\n",
       "-0.85 [1^ 13] +\n",
       "0.85 [1^ 15] +\n",
       "-1.0 [2^ 2] +\n",
       "-1.3 [2^ 6] +\n",
       "1.0 [2^ 10] +\n",
       "0.85 [2^ 12] +\n",
       "-0.85 [2^ 14] +\n",
       "-1.0 [3^ 3] +\n",
       "-1.3 [3^ 7] +\n",
       "1.0 [3^ 11] +\n",
       "0.85 [3^ 13] +\n",
       "-0.85 [3^ 15] +\n",
       "1.0 [4^ 0] +\n",
       "-1.0 [4^ 4] +\n",
       "-0.85 [4^ 8] +\n",
       "-0.85 [4^ 10] +\n",
       "-1.3 [4^ 12] +\n",
       "1.0 [5^ 1] +\n",
       "-1.0 [5^ 5] +\n",
       "-0.85 [5^ 9] +\n",
       "-0.85 [5^ 11] +\n",
       "-1.3 [5^ 13] +\n",
       "-1.3 [6^ 2] +\n",
       "-1.0 [6^ 6] +\n",
       "-0.85 [6^ 8] +\n",
       "-0.85 [6^ 10] +\n",
       "1.0 [6^ 14] +\n",
       "-1.3 [7^ 3] +\n",
       "-1.0 [7^ 7] +\n",
       "-0.85 [7^ 9] +\n",
       "-0.85 [7^ 11] +\n",
       "1.0 [7^ 15] +\n",
       "-1.3 [8^ 0] +\n",
       "-0.85 [8^ 4] +\n",
       "-0.85 [8^ 6] +\n",
       "-1.0 [8^ 8] +\n",
       "1.0 [8^ 12] +\n",
       "-1.3 [9^ 1] +\n",
       "-0.85 [9^ 5] +\n",
       "-0.85 [9^ 7] +\n",
       "-1.0 [9^ 9] +\n",
       "1.0 [9^ 13] +\n",
       "1.0 [10^ 2] +\n",
       "-0.85 [10^ 4] +\n",
       "-0.85 [10^ 6] +\n",
       "-1.0 [10^ 10] +\n",
       "-1.3 [10^ 14] +\n",
       "1.0 [11^ 3] +\n",
       "-0.85 [11^ 5] +\n",
       "-0.85 [11^ 7] +\n",
       "-1.0 [11^ 11] +\n",
       "-1.3 [11^ 15] +\n",
       "-0.85 [12^ 0] +\n",
       "0.85 [12^ 2] +\n",
       "-1.3 [12^ 4] +\n",
       "1.0 [12^ 8] +\n",
       "-1.0 [12^ 12] +\n",
       "-0.85 [13^ 1] +\n",
       "0.85 [13^ 3] +\n",
       "-1.3 [13^ 5] +\n",
       "1.0 [13^ 9] +\n",
       "-1.0 [13^ 13] +\n",
       "0.85 [14^ 0] +\n",
       "-0.85 [14^ 2] +\n",
       "1.0 [14^ 6] +\n",
       "-1.3 [14^ 10] +\n",
       "-1.0 [14^ 14] +\n",
       "0.85 [15^ 1] +\n",
       "-0.85 [15^ 3] +\n",
       "1.0 [15^ 7] +\n",
       "-1.3 [15^ 11] +\n",
       "-1.0 [15^ 15]"
      ]
     },
     "execution_count": 7,
     "metadata": {},
     "output_type": "execute_result"
    }
   ],
   "source": [
    "t1 = -1\n",
    "t2 = 1.3\n",
    "t3 = 0.85\n",
    "t4 = 0.85\n",
    "mu = 1\n",
    "nx_to_two_orbital_hamiltonian(g_example, t1, t2, t3, t4, mu)"
   ]
  },
  {
   "cell_type": "code",
   "execution_count": 8,
   "metadata": {
    "tags": []
   },
   "outputs": [],
   "source": [
    "g_current_limit = generate_two_orbital_nx(6,7)\n",
    "g_ideal = generate_two_orbital_nx(20,20)\n",
    "\n",
    "##### START UNCOMMENT FOR TESTING\n",
    "n_test = 2\n",
    "g_current_limit = generate_two_orbital_nx(n_test,n_test)  \n",
    "g_ideal = generate_two_orbital_nx(n_test,n_test)\n",
    "##### END UNCOMMENT FOR TESTING\n",
    "n_qubits_current_limit = len(g_current_limit)\n",
    "n_qubits_ideal = len(g_ideal)"
   ]
  },
  {
   "cell_type": "markdown",
   "metadata": {},
   "source": [
    "Now that we have the Hamiltonians for both the model which constitutes the current limit of classical solvers, and the ideal capability of a solver, we can perform resource estimation for the Hamiltonians.  As with the single qubit model, we need to get a decent state initialization using Hartree-Fock.  As above, this has not been implemented at this time, but should have low depth in the quantum circuit since Hartree-Fock outputs a product state."
   ]
  },
  {
   "cell_type": "code",
   "execution_count": 9,
   "metadata": {
    "tags": []
   },
   "outputs": [],
   "source": [
    "#TODO: Incorporate Hartree-Fock into this section to prepare the initial state for QPE for GSEE.\n",
    "#This should provide a low depth initialization circuit relative to the depth of the QPE, while giving access to a low-energy subspace"
   ]
  },
  {
   "cell_type": "markdown",
   "metadata": {},
   "source": [
    "Assuming that we have the output from the Hartree-Fock simulation, we may now perform QPE as above.  Currently we are using a short evolution time and a second order trotterization with a single step.  We will use scaling arguments to determine the final resources since generating the full circuit for a large number of trotter steps with many bits of precision is quite costly."
   ]
  },
  {
   "cell_type": "code",
   "execution_count": 10,
   "metadata": {
    "tags": []
   },
   "outputs": [],
   "source": [
    "ham_current_limit = nx_to_two_orbital_hamiltonian(g_current_limit,t1,t2,t3,t4,mu)\n",
    "ham_ideal = nx_to_two_orbital_hamiltonian(g_ideal,t1,t2,t3,t4,mu)\n",
    "trotter_order_current_limit = 2\n",
    "trotter_steps_current_limit = 1 #Using one trotter step for a strict lower bound with this method\n",
    "\n",
    "trotter_order_ideal = 2\n",
    "trotter_steps_ideal = 1 #Using one trotter step for a strict lower bound with this method\n",
    "\n",
    "bits_precision_ideal = 16\n",
    "bits_precision_current_limit = 16\n",
    "\n",
    "E_min_ideal = -len(ham_ideal.terms)\n",
    "E_max_ideal = 0\n",
    "omega_ideal = E_max_ideal-E_min_ideal\n",
    "t_ideal = 2*np.pi/omega_ideal\n",
    "phase_offset_ideal = E_max_ideal*t_ideal\n",
    "\n",
    "E_min_current_limit = -len(ham_current_limit.terms)\n",
    "E_max_current_limit = 0\n",
    "omega_current_limit = E_max_current_limit-E_min_current_limit\n",
    "t_current_limit = 2*np.pi/omega_current_limit\n",
    "phase_offset_current_limit = E_max_current_limit*t_current_limit\n",
    "\n",
    "init_state_ideal = [0] * n_qubits_ideal\n",
    "init_state_current_limit = [0] * n_qubits_current_limit\n",
    "\n",
    "current_limit_args = {\n",
    "    'trotterize' : True,\n",
    "    'mol_ham'    : ham_current_limit,\n",
    "    'ev_time'    : t_current_limit,\n",
    "    'trot_ord'   : trotter_order_current_limit,\n",
    "    'trot_num'   : 1\n",
    "}\n",
    "\n",
    "ideal_args = {\n",
    "    'trotterize' : True,\n",
    "    'mol_ham'    : ham_ideal,\n",
    "    'ev_time'    : t_ideal,\n",
    "    'trot_ord'   : trotter_order_ideal,\n",
    "    'trot_num'   : 1\n",
    "}"
   ]
  },
  {
   "cell_type": "code",
   "execution_count": 11,
   "metadata": {
    "tags": []
   },
   "outputs": [],
   "source": [
    "metadata_current_limit = EstimateMetaData(\n",
    "    id=3000,\n",
    "    name='FermiHubbard_Two_Band_Current_Limit`',\n",
    "    category='scientific',\n",
    "    size=f'{6}x{7}',\n",
    "    task='Ground State Energy Estimation',\n",
    "    implementations=f'GSEE, evolution_time={t_current_limit}, bits_precision={bits_precision_current_limit}, trotter_order={trotter_order_current_limit}',\n",
    ")\n",
    "\n",
    "metadata_ideal = EstimateMetaData(\n",
    "    id=4000,\n",
    "    name='FermiHubbard_Two_Band_Ideal',\n",
    "    category='scientific',\n",
    "    size=f'{20}x{20}',\n",
    "    task='Ground State Energy Estimation',\n",
    "    implementations=f'GSEE, evolution_time={t_ideal}, bits_precision={bits_precision_ideal}, trotter_order={trotter_order_ideal}',\n",
    ")"
   ]
  },
  {
   "cell_type": "code",
   "execution_count": 12,
   "metadata": {},
   "outputs": [
    {
     "name": "stdout",
     "output_type": "stream",
     "text": [
      "Estimating Current Limit\n",
      "Time to generate circuit for GSEE: 4.112499846087303e-05 seconds\n",
      "   Time to decompose high level HPowGate circuit: 0.00010516700058360584 seconds \n",
      "   Time to transform decomposed HPowGate circuit to Clifford+T: 0.00019879199862771202 seconds\n",
      "   Time to decompose high level IdentityGate circuit: 3.52080005541211e-05 seconds \n",
      "   Time to transform decomposed IdentityGate circuit to Clifford+T: 5.6249991757795215e-06 seconds\n",
      "   Time to decompose high level PhaseOffset circuit: 9.079200026462786e-05 seconds \n",
      "   Time to transform decomposed PhaseOffset circuit to Clifford+T: 8.262499977718107e-05 seconds\n",
      "   Time to decompose high level Trotter_Unitary circuit: 0.22323074999985693 seconds \n",
      "   Time to transform decomposed Trotter_Unitary circuit to Clifford+T: 1.060906791999514 seconds\n",
      "   Time to decompose high level MeasurementGate circuit: 0.0008073329991020728 seconds \n",
      "   Time to transform decomposed MeasurementGate circuit to Clifford+T: 4.454199915926438e-05 seconds\n",
      "Time to estimate Current Limit: 2.584240915999544\n",
      "Estimating Ideal\n",
      "Time to generate circuit for GSEE: 3.574999936972745e-05 seconds\n",
      "   Time to decompose high level HPowGate circuit: 0.00010112500058312435 seconds \n",
      "   Time to transform decomposed HPowGate circuit to Clifford+T: 9.445900104765315e-05 seconds\n",
      "   Time to decompose high level IdentityGate circuit: 1.5125000572879799e-05 seconds \n",
      "   Time to transform decomposed IdentityGate circuit to Clifford+T: 4.249999619787559e-06 seconds\n",
      "   Time to decompose high level PhaseOffset circuit: 7.337500028370414e-05 seconds \n",
      "   Time to transform decomposed PhaseOffset circuit to Clifford+T: 3.854200076602865e-05 seconds\n",
      "   Time to decompose high level Trotter_Unitary circuit: 0.27389312500054075 seconds \n",
      "   Time to transform decomposed Trotter_Unitary circuit to Clifford+T: 0.7673925409999356 seconds\n",
      "   Time to decompose high level MeasurementGate circuit: 0.0009456249990762444 seconds \n",
      "   Time to transform decomposed MeasurementGate circuit to Clifford+T: 8.712499948160257e-05 seconds\n",
      "Time to estimate Ideal: 2.727386500000648\n"
     ]
    }
   ],
   "source": [
    "print('Estimating Current Limit')\n",
    "t0 = time.perf_counter()\n",
    "\n",
    "estimate_current_limit = gsee_resource_estimation(\n",
    "    outdir='GSE/FermiHubbard/',\n",
    "    numsteps=trotter_steps_current_limit,\n",
    "    gsee_args=current_limit_args,\n",
    "    init_state=init_state_current_limit,\n",
    "    precision_order=1,\n",
    "    bits_precision=bits_precision_current_limit,\n",
    "    phase_offset=phase_offset_current_limit,\n",
    "    circuit_name='two_band_current_limit',\n",
    "    metadata=metadata_current_limit,\n",
    "    write_circuits=True\n",
    ")\n",
    "t1 = time.perf_counter()\n",
    "print(f'Time to estimate Current Limit: {t1-t0}')\n",
    "\n",
    "print('Estimating Ideal')\n",
    "t0 = time.perf_counter()\n",
    "estimate_ideal = gsee_resource_estimation(\n",
    "    outdir='GSE/FermiHubbard/',\n",
    "    numsteps=trotter_steps_ideal,\n",
    "    gsee_args=ideal_args,\n",
    "    init_state=init_state_ideal,\n",
    "    precision_order=1,\n",
    "    bits_precision=bits_precision_ideal,\n",
    "    phase_offset=phase_offset_ideal,\n",
    "    circuit_name='two_band_ideal',\n",
    "    metadata=metadata_ideal,\n",
    "    write_circuits=True\n",
    ")\n",
    "t1 = time.perf_counter()\n",
    "print(f'Time to estimate Ideal: {t1-t0}')"
   ]
  },
  {
   "cell_type": "markdown",
   "metadata": {},
   "source": [
    "After Ground State Energy Estimation has been performed, we need to measure the autocorrelation, $\\frac{1}{2}\\langle \\Delta_{i,j} + \\Delta_{i,j}^{\\dagger}\\rangle$ where $\\Delta_{i,j} = \\langle c_{i+}c_{j-} - c_{i-}c_{j+} \\rangle$.  As above, for the case where $i = j = 0$, this can be performed in the following way.  One can rotate into the Pauli basis using the following transformation, where for simplicity we assume that $i = j = 0$ is in the middle of the lattice.  We will label the qubit representing site $i+$ as qubit 1 and the qubit representing site $i-$ as qubit 2.  Given $U = CNOT_{i+,i-} H_{i+} CNOT_{i+,i-}$, it can be shown that $U^\\dagger (c_{i+}c_{i-} - c_{i-}c_{i+}) U = -2 |\\uparrow \\uparrow \\rangle \\langle \\uparrow \\uparrow | + 2 |\\downarrow \\downarrow \\rangle \\langle \\downarrow \\downarrow|$.  This means that by simply applying the circuit $U$, then measuring, we can observe the autocorrelation.  This introduces 3 Clifford operations and no T gates.\n",
    "\n",
    "A similar operation, though acting on 4 qubits rather than 2 qubits, can be achieved in a similarly low constant circuit depth for the case where $i \\neq j$."
   ]
  },
  {
   "cell_type": "markdown",
   "metadata": {},
   "source": [
    "## Three Band"
   ]
  },
  {
   "cell_type": "markdown",
   "metadata": {},
   "source": [
    "Lastly, we will demonstrate the same procedure for the three-band Fermi-Hubbard model, seen [here](http://sces.phys.utk.edu/publications/Pub2011/7-FOP-11107-ED.pdf). The Hamiltonian on a 2-d lattice is given by the sum of the following three Hamiltonians.  The first Hamiltonian, representing the hopping terms for the xz and yz orbitals, is the same as the two band Hamiltonian above:\n",
    "\n",
    "\\begin{equation}\n",
    "\\begin{split}\n",
    "    H_{xz,yz} & = -t_1 \\sum_{i,\\sigma} \\left( d^{\\dagger}_{i,xz,\\sigma}d_{i+\\hat{y},xz,\\sigma} +  d^{\\dagger}_{i,yz,\\sigma}d_{i+\\hat{x}, yz, \\sigma} + \\text{h.c.} \\right) \\\\\n",
    "           & -t_2 \\sum_{i,\\sigma} \\left( d^{\\dagger}_{i,xz,\\sigma}d_{i+\\hat{x},xz,\\sigma} +  d^{\\dagger}_{i,yz,\\sigma}d_{i+\\hat{y}, yz, \\sigma} + \\text{h.c.} \\right) \\\\\n",
    "           & -t_3 \\sum_{i,\\hat{\\mu}, \\hat{\\nu},\\sigma} \\left( d^{\\dagger}_{i,xz,\\sigma}d_{i+\\hat{\\mu} + \\hat{\\nu},xz,\\sigma} +  d^{\\dagger}_{i,yz,\\sigma}d_{i+\\hat{\\mu} + \\hat{\\nu}, yz, \\sigma} + \\text{h.c.} \\right) \\\\\n",
    "           & +t_4 \\sum_{i,\\sigma} \\left( d^{\\dagger}_{i,xz,\\sigma}d_{i+\\hat{x}+\\hat{y},yz,\\sigma} +  d^{\\dagger}_{i,yz,\\sigma}d_{i+\\hat{x}+\\hat{y},xz,\\sigma} + \\text{h.c.} \\right) \\\\\n",
    "           & -t_4 \\sum_{i,\\sigma} \\left( d^{\\dagger}_{i,xz,\\sigma}d_{i+\\hat{x}-\\hat{y},yz,\\sigma} +  d^{\\dagger}_{i,yz,\\sigma}d_{i+\\hat{x}-\\hat{y},xz,\\sigma} + \\text{h.c.} \\right) \\\\\n",
    "           & -\\mu \\sum_{i} \\left( n_{i}^{xz} + n_{i}^{yz} \\right)\n",
    "\\end{split}\n",
    "\\end{equation}\n",
    "\n",
    "The second Hamiltonian reflects the intra-orbital hopping terms for the $xy$ orbital is given by\n",
    "\\begin{equation}\n",
    "\\begin{split} H_{xy} &= t_5 \\sum_{i,\\hat{\\mu}, \\sigma} \\left( d^{\\dagger}_{i,xy,\\sigma} d_{i+\\hat{\\mu},xy,\\sigma} + \\text{h.c.} \\right) \\\\\n",
    "           & -t_6 \\sum_{i,\\hat{\\mu},\\hat{\\nu},\\sigma} \\left( d^{\\dagger}_{i,xy,\\sigma} d_{i+\\hat{\\mu}+\\hat{\\nu},xy,\\sigma}  + \\text{h.c.}\\right) \\\\\n",
    "           & + \\Delta_{xy} \\sum_{i} n_{i,xy} - \\mu \\sum_{i} n_{i,xy}\n",
    "\\end{split}\n",
    "\\end{equation}\n",
    "The term $\\Delta_{xy}$ represents the difference between the energy of the $xy$ and $xz$ or $yz$ orbitals.  Recall from the two band example above that the term $\\hat{\\mu}$ and $\\hat{\\nu}$ represent either the $\\hat{x}$ or $\\hat{y}$ unit vectors.  Therefore the summations over $\\hat{\\mu}$ represent nearest neighbor couplings.  \n",
    "\n",
    "Finally, the third represents the hybridization terms between the $xy$ terms and the $xz$ or $yz$ terms.\n",
    "\\begin{equation}\n",
    "\\begin{split}\n",
    "    H_{\\text{xz,yz;xy}} &= -t_7 \\sum_{i,\\sigma} \\left[ \\left(-1\\right)^{|{\\bf{i}}|}d^{\\dagger}_{{i},xz,\\sigma} d_{{i} + \\hat{x}, xy, \\sigma} + \\text{h.c.} \\right]\n",
    "                           -t_7 \\sum_{i,\\sigma} \\left[ \\left(-1\\right)^{|{\\bf{i}}|}d^{\\dagger}_{{i},xy,\\sigma} d_{{i} + \\hat{x}, xz, \\sigma} + \\text{h.c.} \\right] \\\\\n",
    "                        &  -t_7 \\sum_{i,\\sigma} \\left[ \\left(-1\\right)^{|{\\bf{i}}|}d^{\\dagger}_{{i},yz,\\sigma} d_{{i} + \\hat{y}, xy, \\sigma} + \\text{h.c.} \\right]\n",
    "                           -t_7 \\sum_{i,\\sigma} \\left[ \\left(-1\\right)^{|{\\bf{i}}|}d^{\\dagger}_{{i},xy,\\sigma} d_{{i} + \\hat{y}, yz, \\sigma} + \\text{h.c.} \\right] \\\\\n",
    "                        &  -t_8 \\sum_{i,\\sigma} \\left[ \\left(-1\\right)^{|{\\bf{i}}|}d^{\\dagger}_{{i},xz,\\sigma} d_{{i} + \\hat{x} + \\hat{y}, xy, \\sigma} + \\text{h.c.} \\right] \n",
    "                           +t_8 \\sum_{i,\\sigma} \\left[ \\left(-1\\right)^{|{\\bf{i}}|}d^{\\dagger}_{{i},xy,\\sigma} d_{{i} + \\hat{x} + \\hat{y}, xz, \\sigma} + \\text{h.c.} \\right] \\\\\n",
    "                        &  -t_8 \\sum_{i,\\sigma} \\left[ \\left(-1\\right)^{|{\\bf{i}}|}d^{\\dagger}_{{i},xz,\\sigma} d_{{i} + \\hat{x} - \\hat{y}, xy, \\sigma} + \\text{h.c.} \\right] \n",
    "                           +t_8 \\sum_{i,\\sigma} \\left[ \\left(-1\\right)^{|{\\bf{i}}|}d^{\\dagger}_{{i},xy,\\sigma} d_{{i} + \\hat{x} - \\hat{y}, xz, \\sigma} + \\text{h.c.} \\right] \\\\\n",
    "                        &  -t_8 \\sum_{i,\\sigma} \\left[ \\left(-1\\right)^{|{\\bf{i}}|}d^{\\dagger}_{{i},yz,\\sigma} d_{{i} + \\hat{x} + \\hat{y}, xy, \\sigma} + \\text{h.c.} \\right] \n",
    "                           +t_8 \\sum_{i,\\sigma} \\left[ \\left(-1\\right)^{|{\\bf{i}}|}d^{\\dagger}_{{i},xy,\\sigma} d_{{i} + \\hat{x} + \\hat{y}, yz, \\sigma} + \\text{h.c.} \\right] \\\\\n",
    "                        &  +t_8 \\sum_{i,\\sigma} \\left[ \\left(-1\\right)^{|{\\bf{i}}|}d^{\\dagger}_{{i},yz,\\sigma} d_{{i} + \\hat{x} - \\hat{y}, xy, \\sigma} + \\text{h.c.} \\right] \n",
    "                           -t_8 \\sum_{i,\\sigma} \\left[ \\left(-1\\right)^{|{\\bf{i}}|}d^{\\dagger}_{{i},xy,\\sigma} d_{{i} + \\hat{x} - \\hat{y}, yz, \\sigma} + \\text{h.c.} \\right] \\\\\n",
    "\\end{split}\n",
    "\\end{equation}\n",
    "\n",
    "The terms $(-1)^{|\\text{i}|}$ represent are site dependent parity terms that cause the sign of the interaction to depend on the site.  This comes from the two-iron unit cell of the FeAs planes in the material that these Hamiltonians are derived for.\n",
    "\n",
    "The coefficients of the various terms are as follows:\n",
    "$t_1 = 0.02$\n",
    ", $t_2 = 0.06$\n",
    ", $t_3 = 0.03$\n",
    ", $t_4 = -0.01$\n",
    ", $t_5 = 0.2$\n",
    ", $t_6 = 0.3$\n",
    ", $t_7 = -0.2$\n",
    ", $t_8 = -t_7/2$\n",
    ", $\\Delta_{xy} = 0.4$\n",
    "\n",
    "The value $\\mu$ is swept and will be taken to be a representative value of 1 in this notebook."
   ]
  },
  {
   "cell_type": "code",
   "execution_count": 13,
   "metadata": {},
   "outputs": [
    {
     "name": "stdout",
     "output_type": "stream",
     "text": [
      "[((0, 0, 0, 0), (0, 1, 0, 0), {'label': '-t1'}), ((0, 0, 0, 0), (1, 0, 0, 0), {'label': '-t2'}), ((0, 0, 0, 0), (1, 1, 0, 0), {'label': '-t3'}), ((0, 0, 0, 0), (1, 1, 1, 0), {'label': '+t4'}), ((0, 0, 0, 0), (1, 0, 2, 0), {'label': '-t7'}), ((0, 0, 0, 0), (1, 1, 2, 0), {'label': '-t8'}), ((0, 0, 0, 1), (0, 1, 0, 1), {'label': '-t1'}), ((0, 0, 0, 1), (1, 0, 0, 1), {'label': '-t2'}), ((0, 0, 0, 1), (1, 1, 0, 1), {'label': '-t3'}), ((0, 0, 0, 1), (1, 1, 1, 1), {'label': '+t4'}), ((0, 0, 0, 1), (1, 0, 2, 1), {'label': '-t7'}), ((0, 0, 0, 1), (1, 1, 2, 1), {'label': '-t8'}), ((0, 0, 1, 0), (1, 0, 1, 0), {'label': '-t1'}), ((0, 0, 1, 0), (0, 1, 1, 0), {'label': '-t2'}), ((0, 0, 1, 0), (1, 1, 1, 0), {'label': '-t3'}), ((0, 0, 1, 0), (1, 1, 0, 0), {'label': '+t4'}), ((0, 0, 1, 0), (0, 1, 2, 0), {'label': '-t7'}), ((0, 0, 1, 0), (1, 1, 2, 0), {'label': '-t8'}), ((0, 0, 1, 1), (1, 0, 1, 1), {'label': '-t1'}), ((0, 0, 1, 1), (0, 1, 1, 1), {'label': '-t2'}), ((0, 0, 1, 1), (1, 1, 1, 1), {'label': '-t3'}), ((0, 0, 1, 1), (1, 1, 0, 1), {'label': '+t4'}), ((0, 0, 1, 1), (0, 1, 2, 1), {'label': '-t7'}), ((0, 0, 1, 1), (1, 1, 2, 1), {'label': '-t8'}), ((0, 1, 0, 0), (1, 1, 0, 0), {'label': '-t2'}), ((0, 1, 0, 0), (1, 0, 0, 0), {'label': '-t3'}), ((0, 1, 0, 0), (1, 0, 1, 0), {'label': '-t4'}), ((0, 1, 0, 0), (1, 1, 2, 0), {'label': '+t7'}), ((0, 1, 0, 0), (1, 0, 2, 0), {'label': '+t8'}), ((0, 1, 0, 1), (1, 1, 0, 1), {'label': '-t2'}), ((0, 1, 0, 1), (1, 0, 0, 1), {'label': '-t3'}), ((0, 1, 0, 1), (1, 0, 1, 1), {'label': '-t4'}), ((0, 1, 0, 1), (1, 1, 2, 1), {'label': '+t7'}), ((0, 1, 0, 1), (1, 0, 2, 1), {'label': '+t8'}), ((0, 1, 1, 0), (1, 1, 1, 0), {'label': '-t1'}), ((0, 1, 1, 0), (1, 0, 1, 0), {'label': '-t3'}), ((0, 1, 1, 0), (1, 0, 0, 0), {'label': '-t4'}), ((0, 1, 1, 0), (0, 0, 2, 0), {'label': '-t7'}), ((0, 1, 1, 0), (1, 0, 2, 0), {'label': '-t8'}), ((0, 1, 1, 1), (1, 1, 1, 1), {'label': '-t1'}), ((0, 1, 1, 1), (1, 0, 1, 1), {'label': '-t3'}), ((0, 1, 1, 1), (1, 0, 0, 1), {'label': '-t4'}), ((0, 1, 1, 1), (0, 0, 2, 1), {'label': '-t7'}), ((0, 1, 1, 1), (1, 0, 2, 1), {'label': '-t8'}), ((1, 0, 0, 0), (1, 1, 0, 0), {'label': '-t1'}), ((1, 0, 0, 0), (0, 0, 2, 0), {'label': '-t7'}), ((1, 0, 0, 0), (0, 1, 2, 0), {'label': '-t8'}), ((1, 0, 0, 1), (1, 1, 0, 1), {'label': '-t1'}), ((1, 0, 0, 1), (0, 0, 2, 1), {'label': '-t7'}), ((1, 0, 0, 1), (0, 1, 2, 1), {'label': '-t8'}), ((1, 0, 1, 0), (1, 1, 1, 0), {'label': '-t2'}), ((1, 0, 1, 0), (0, 1, 2, 0), {'label': '+t8'}), ((1, 0, 1, 0), (1, 1, 2, 0), {'label': '+t7'}), ((1, 0, 1, 1), (1, 1, 1, 1), {'label': '-t2'}), ((1, 0, 1, 1), (0, 1, 2, 1), {'label': '+t8'}), ((1, 0, 1, 1), (1, 1, 2, 1), {'label': '+t7'}), ((1, 1, 0, 0), (0, 0, 2, 0), {'label': '+t8'}), ((1, 1, 0, 0), (0, 1, 2, 0), {'label': '+t7'}), ((1, 1, 0, 1), (0, 0, 2, 1), {'label': '+t8'}), ((1, 1, 0, 1), (0, 1, 2, 1), {'label': '+t7'}), ((1, 1, 1, 0), (0, 0, 2, 0), {'label': '+t8'}), ((1, 1, 1, 0), (1, 0, 2, 0), {'label': '+t7'}), ((1, 1, 1, 1), (0, 0, 2, 1), {'label': '+t8'}), ((1, 1, 1, 1), (1, 0, 2, 1), {'label': '+t7'}), ((0, 0, 2, 0), (0, 1, 2, 0), {'label': '+t5'}), ((0, 0, 2, 0), (1, 0, 2, 0), {'label': '+t5'}), ((0, 0, 2, 0), (1, 1, 2, 0), {'label': '-t6'}), ((0, 0, 2, 1), (0, 1, 2, 1), {'label': '+t5'}), ((0, 0, 2, 1), (1, 0, 2, 1), {'label': '+t5'}), ((0, 0, 2, 1), (1, 1, 2, 1), {'label': '-t6'}), ((0, 1, 2, 0), (1, 1, 2, 0), {'label': '+t5'}), ((0, 1, 2, 0), (1, 0, 2, 0), {'label': '-t6'}), ((0, 1, 2, 1), (1, 1, 2, 1), {'label': '+t5'}), ((0, 1, 2, 1), (1, 0, 2, 1), {'label': '-t6'}), ((1, 0, 2, 0), (1, 1, 2, 0), {'label': '+t5'}), ((1, 0, 2, 1), (1, 1, 2, 1), {'label': '+t5'})]\n"
     ]
    },
    {
     "data": {
      "image/png": "[encoded data removed]",
      "text/plain": [
       "<Figure size 640x480 with 1 Axes>"
      ]
     },
     "metadata": {},
     "output_type": "display_data"
    }
   ],
   "source": [
    "g_example = generate_three_orbital_nx(2,2)\n",
    "pos = get_node_attributes(g_example, 'pos')\n",
    "edge_labels = dict([((n1, n2), d['label']) for n1, n2, d in g_example.edges(data=True)]);\n",
    "draw(g_example, pos)\n",
    "draw_networkx_edge_labels(g_example,pos, edge_labels = edge_labels);\n",
    "\n",
    "print(g_example.edges(data=True))"
   ]
  },
  {
   "cell_type": "code",
   "execution_count": 14,
   "metadata": {},
   "outputs": [
    {
     "data": {
      "text/plain": [
       "-1.0 [0^ 0] +\n",
       "-0.02 [0^ 4] +\n",
       "-0.06 [0^ 8] +\n",
       "-0.03 [0^ 12] +\n",
       "-0.01 [0^ 14] +\n",
       "0.2 [0^ 20] +\n",
       "-0.1 [0^ 22] +\n",
       "-1.0 [1^ 1] +\n",
       "-0.02 [1^ 5] +\n",
       "-0.06 [1^ 9] +\n",
       "-0.03 [1^ 13] +\n",
       "-0.01 [1^ 15] +\n",
       "0.2 [1^ 21] +\n",
       "-0.1 [1^ 23] +\n",
       "-1.0 [2^ 2] +\n",
       "-0.06 [2^ 6] +\n",
       "-0.02 [2^ 10] +\n",
       "-0.01 [2^ 12] +\n",
       "-0.03 [2^ 14] +\n",
       "0.2 [2^ 18] +\n",
       "-0.1 [2^ 22] +\n",
       "-1.0 [3^ 3] +\n",
       "-0.06 [3^ 7] +\n",
       "-0.02 [3^ 11] +\n",
       "-0.01 [3^ 13] +\n",
       "-0.03 [3^ 15] +\n",
       "0.2 [3^ 19] +\n",
       "-0.1 [3^ 23] +\n",
       "-0.02 [4^ 0] +\n",
       "-1.0 [4^ 4] +\n",
       "-0.03 [4^ 8] +\n",
       "0.01 [4^ 10] +\n",
       "-0.06 [4^ 12] +\n",
       "0.1 [4^ 20] +\n",
       "-0.2 [4^ 22] +\n",
       "-0.02 [5^ 1] +\n",
       "-1.0 [5^ 5] +\n",
       "-0.03 [5^ 9] +\n",
       "0.01 [5^ 11] +\n",
       "-0.06 [5^ 13] +\n",
       "0.1 [5^ 21] +\n",
       "-0.2 [5^ 23] +\n",
       "-0.06 [6^ 2] +\n",
       "-1.0 [6^ 6] +\n",
       "0.01 [6^ 8] +\n",
       "-0.03 [6^ 10] +\n",
       "-0.02 [6^ 14] +\n",
       "0.2 [6^ 16] +\n",
       "-0.1 [6^ 20] +\n",
       "-0.06 [7^ 3] +\n",
       "-1.0 [7^ 7] +\n",
       "0.01 [7^ 9] +\n",
       "-0.03 [7^ 11] +\n",
       "-0.02 [7^ 15] +\n",
       "0.2 [7^ 17] +\n",
       "-0.1 [7^ 21] +\n",
       "-0.06 [8^ 0] +\n",
       "-0.03 [8^ 4] +\n",
       "0.01 [8^ 6] +\n",
       "-1.0 [8^ 8] +\n",
       "-0.02 [8^ 12] +\n",
       "0.2 [8^ 16] +\n",
       "-0.1 [8^ 18] +\n",
       "-0.06 [9^ 1] +\n",
       "-0.03 [9^ 5] +\n",
       "0.01 [9^ 7] +\n",
       "-1.0 [9^ 9] +\n",
       "-0.02 [9^ 13] +\n",
       "0.2 [9^ 17] +\n",
       "-0.1 [9^ 19] +\n",
       "-0.02 [10^ 2] +\n",
       "0.01 [10^ 4] +\n",
       "-0.03 [10^ 6] +\n",
       "-1.0 [10^ 10] +\n",
       "-0.06 [10^ 14] +\n",
       "0.1 [10^ 18] +\n",
       "-0.2 [10^ 22] +\n",
       "-0.02 [11^ 3] +\n",
       "0.01 [11^ 5] +\n",
       "-0.03 [11^ 7] +\n",
       "-1.0 [11^ 11] +\n",
       "-0.06 [11^ 15] +\n",
       "0.1 [11^ 19] +\n",
       "-0.2 [11^ 23] +\n",
       "-0.03 [12^ 0] +\n",
       "-0.01 [12^ 2] +\n",
       "-0.06 [12^ 4] +\n",
       "-0.02 [12^ 8] +\n",
       "-1.0 [12^ 12] +\n",
       "0.1 [12^ 16] +\n",
       "-0.2 [12^ 18] +\n",
       "-0.03 [13^ 1] +\n",
       "-0.01 [13^ 3] +\n",
       "-0.06 [13^ 5] +\n",
       "-0.02 [13^ 9] +\n",
       "-1.0 [13^ 13] +\n",
       "0.1 [13^ 17] +\n",
       "-0.2 [13^ 19] +\n",
       "-0.01 [14^ 0] +\n",
       "-0.03 [14^ 2] +\n",
       "-0.02 [14^ 6] +\n",
       "-0.06 [14^ 10] +\n",
       "-1.0 [14^ 14] +\n",
       "0.1 [14^ 16] +\n",
       "-0.2 [14^ 20] +\n",
       "-0.01 [15^ 1] +\n",
       "-0.03 [15^ 3] +\n",
       "-0.02 [15^ 7] +\n",
       "-0.06 [15^ 11] +\n",
       "-1.0 [15^ 15] +\n",
       "0.1 [15^ 17] +\n",
       "-0.2 [15^ 21] +\n",
       "0.2 [16^ 6] +\n",
       "0.2 [16^ 8] +\n",
       "0.1 [16^ 12] +\n",
       "0.1 [16^ 14] +\n",
       "-0.6 [16^ 16] +\n",
       "0.2 [16^ 18] +\n",
       "0.2 [16^ 20] +\n",
       "-0.3 [16^ 22] +\n",
       "0.2 [17^ 7] +\n",
       "0.2 [17^ 9] +\n",
       "0.1 [17^ 13] +\n",
       "0.1 [17^ 15] +\n",
       "-0.6 [17^ 17] +\n",
       "0.2 [17^ 19] +\n",
       "0.2 [17^ 21] +\n",
       "-0.3 [17^ 23] +\n",
       "0.2 [18^ 2] +\n",
       "-0.1 [18^ 8] +\n",
       "0.1 [18^ 10] +\n",
       "-0.2 [18^ 12] +\n",
       "0.2 [18^ 16] +\n",
       "-0.6 [18^ 18] +\n",
       "-0.3 [18^ 20] +\n",
       "0.2 [18^ 22] +\n",
       "0.2 [19^ 3] +\n",
       "-0.1 [19^ 9] +\n",
       "0.1 [19^ 11] +\n",
       "-0.2 [19^ 13] +\n",
       "0.2 [19^ 17] +\n",
       "-0.6 [19^ 19] +\n",
       "-0.3 [19^ 21] +\n",
       "0.2 [19^ 23] +\n",
       "0.2 [20^ 0] +\n",
       "0.1 [20^ 4] +\n",
       "-0.1 [20^ 6] +\n",
       "-0.2 [20^ 14] +\n",
       "0.2 [20^ 16] +\n",
       "-0.3 [20^ 18] +\n",
       "-0.6 [20^ 20] +\n",
       "0.2 [20^ 22] +\n",
       "0.2 [21^ 1] +\n",
       "0.1 [21^ 5] +\n",
       "-0.1 [21^ 7] +\n",
       "-0.2 [21^ 15] +\n",
       "0.2 [21^ 17] +\n",
       "-0.3 [21^ 19] +\n",
       "-0.6 [21^ 21] +\n",
       "0.2 [21^ 23] +\n",
       "-0.1 [22^ 0] +\n",
       "-0.1 [22^ 2] +\n",
       "-0.2 [22^ 4] +\n",
       "-0.2 [22^ 10] +\n",
       "-0.3 [22^ 16] +\n",
       "0.2 [22^ 18] +\n",
       "0.2 [22^ 20] +\n",
       "-0.6 [22^ 22] +\n",
       "-0.1 [23^ 1] +\n",
       "-0.1 [23^ 3] +\n",
       "-0.2 [23^ 5] +\n",
       "-0.2 [23^ 11] +\n",
       "-0.3 [23^ 17] +\n",
       "0.2 [23^ 19] +\n",
       "0.2 [23^ 21] +\n",
       "-0.6 [23^ 23]"
      ]
     },
     "execution_count": 14,
     "metadata": {},
     "output_type": "execute_result"
    }
   ],
   "source": [
    "t1 = 0.02\n",
    "t2 = 0.06\n",
    "t3 = 0.03\n",
    "t4 = -0.01\n",
    "t5 = 0.2\n",
    "t6 = 0.3\n",
    "t7 = -0.2\n",
    "t8 = -t7/2\n",
    "mu = 1\n",
    "delta = 0.4\n",
    "nx_to_three_orbital_hamiltonian(g_example, t1, t2, t3, t4, t5, t6, t7, t8, mu, delta)"
   ]
  },
  {
   "cell_type": "code",
   "execution_count": 15,
   "metadata": {
    "tags": []
   },
   "outputs": [],
   "source": [
    "g_current_limit = generate_three_orbital_nx(6,7)\n",
    "g_ideal = generate_three_orbital_nx(20,20)\n",
    "\n",
    "##### START UNCOMMENT FOR TESTING\n",
    "n_test = 2\n",
    "g_current_limit = generate_three_orbital_nx(n_test,n_test)  \n",
    "g_ideal = generate_three_orbital_nx(n_test,n_test)\n",
    "##### END UNCOMMENT FOR TESTING\n",
    "n_qubits_current_limit = len(g_current_limit)\n",
    "n_qubits_ideal = len(g_ideal)"
   ]
  },
  {
   "cell_type": "markdown",
   "metadata": {},
   "source": [
    "Now that we have the Hamiltonians for both the model which constitutes the current limit of classical solvers, and the ideal capability of a solver, we can perform resource estimation for the Hamiltonians.  As with the single qubit model, we need to get a decent state initialization using Hartree-Fock.  As above, this has not been implemented at this time, but should have low depth in the quantum circuit since Hartree-Fock outputs a product state."
   ]
  },
  {
   "cell_type": "code",
   "execution_count": 16,
   "metadata": {
    "tags": []
   },
   "outputs": [],
   "source": [
    "#TODO: Incorporate Hartree-Fock into this section to prepare the initial state for QPE for GSEE.\n",
    "#This should provide a low depth initialization circuit relative to the depth of the QPE, while giving access to a low-energy subspace"
   ]
  },
  {
   "cell_type": "markdown",
   "metadata": {},
   "source": [
    "Assuming that we have the output from the Hartree-Fock simulation, we may now perform QPE as above.  Currently we are using a short evolution time and a second order trotterization with a single step.  We will use scaling arguments to determine the final resources since generating the full circuit for a large number of trotter steps with many bits of precision is quite costly."
   ]
  },
  {
   "cell_type": "code",
   "execution_count": 17,
   "metadata": {
    "tags": []
   },
   "outputs": [],
   "source": [
    "ham_current_limit = nx_to_three_orbital_hamiltonian(g_current_limit,t1,t2,t3,t4,t5,t6,t7,t8,mu,delta)\n",
    "ham_ideal = nx_to_three_orbital_hamiltonian(g_ideal,t1,t2,t3,t4,t5,t6,t7,t8,mu,delta)\n",
    "trotter_order_current_limit = 2\n",
    "trotter_steps_current_limit = 1 #Using one trotter step for a strict lower bound with this method\n",
    "\n",
    "trotter_order_ideal = 2\n",
    "trotter_steps_ideal = 1 #Using one trotter step for a strict lower bound with this method\n",
    "\n",
    "bits_precision_ideal = 16\n",
    "bits_precision_current_limit = 16\n",
    "\n",
    "E_min_ideal = -len(ham_ideal.terms)\n",
    "E_max_ideal = 0\n",
    "omega_ideal = E_max_ideal-E_min_ideal\n",
    "t_ideal = 2*np.pi/omega_ideal\n",
    "phase_offset_ideal = E_max_ideal*t_ideal\n",
    "\n",
    "E_min_current_limit = -len(ham_current_limit.terms)\n",
    "E_max_current_limit = 0\n",
    "omega_current_limit = E_max_current_limit-E_min_current_limit\n",
    "t_current_limit = 2*np.pi/omega_current_limit\n",
    "phase_offset_current_limit = E_max_current_limit*t_current_limit\n",
    "\n",
    "init_state_ideal = [0] * n_qubits_ideal\n",
    "init_state_current_limit = [0] * n_qubits_current_limit\n",
    "\n",
    "current_limit_args = {\n",
    "    'trotterize' : True,\n",
    "    'mol_ham'    : ham_current_limit,\n",
    "    'ev_time'    : t_current_limit,\n",
    "    'trot_ord'   : trotter_order_current_limit,\n",
    "    'trot_num'   : 1\n",
    "}\n",
    "\n",
    "ideal_args = {\n",
    "    'trotterize' : True,\n",
    "    'mol_ham'    : ham_ideal,\n",
    "    'ev_time'    : t_ideal,\n",
    "    'trot_ord'   : trotter_order_ideal,\n",
    "    'trot_num'   : 1\n",
    "}"
   ]
  },
  {
   "cell_type": "code",
   "execution_count": 18,
   "metadata": {
    "tags": []
   },
   "outputs": [],
   "source": [
    "metadata_current_limit = EstimateMetaData(\n",
    "    id=3000,\n",
    "    name='FermiHubbard_ideal_Current_Limit`',\n",
    "    category='scientific',\n",
    "    size=f'{6}x{7}',\n",
    "    task='Ground State Energy Estimation',\n",
    "    implementations=f'GSEE, evolution_time={t_current_limit}, bits_precision={bits_precision_current_limit}, trotter_order={trotter_order_current_limit}',\n",
    ")\n",
    "\n",
    "metadata_ideal = EstimateMetaData(\n",
    "    id=4000,\n",
    "    name='FermiHubbard_ideal_Ideal',\n",
    "    category='scientific',\n",
    "    size=f'{20}x{20}',\n",
    "    task='Ground State Energy Estimation',\n",
    "    implementations=f'GSEE, evolution_time={t_ideal}, bits_precision={bits_precision_ideal}, trotter_order={trotter_order_ideal}',\n",
    ")"
   ]
  },
  {
   "cell_type": "code",
   "execution_count": 19,
   "metadata": {},
   "outputs": [
    {
     "name": "stdout",
     "output_type": "stream",
     "text": [
      "Estimating Current Limit\n",
      "Time to generate circuit for GSEE: 4.75410015496891e-05 seconds\n",
      "   Time to decompose high level HPowGate circuit: 9.162499918602407e-05 seconds \n",
      "   Time to transform decomposed HPowGate circuit to Clifford+T: 0.00022454099962487817 seconds\n",
      "   Time to decompose high level IdentityGate circuit: 1.4999999621068127e-05 seconds \n",
      "   Time to transform decomposed IdentityGate circuit to Clifford+T: 4.249999619787559e-06 seconds\n",
      "   Time to decompose high level PhaseOffset circuit: 0.00012683400018431712 seconds \n",
      "   Time to transform decomposed PhaseOffset circuit to Clifford+T: 0.00012849999984609894 seconds\n",
      "   Time to decompose high level Trotter_Unitary circuit: 0.7423197500011156 seconds \n",
      "   Time to transform decomposed Trotter_Unitary circuit to Clifford+T: 2.832495917000415 seconds\n",
      "   Time to decompose high level MeasurementGate circuit: 0.0022889159990882035 seconds \n",
      "   Time to transform decomposed MeasurementGate circuit to Clifford+T: 5.5915999837452546e-05 seconds\n",
      "Time to estimate Current Limit: 7.096430375000637\n",
      "Estimating Ideal\n",
      "Time to generate circuit for GSEE: 4.9416999900131486e-05 seconds\n",
      "   Time to decompose high level HPowGate circuit: 0.00010812499931489583 seconds \n",
      "   Time to transform decomposed HPowGate circuit to Clifford+T: 0.00021195800036366563 seconds\n",
      "   Time to decompose high level IdentityGate circuit: 1.1208001524209976e-05 seconds \n",
      "   Time to transform decomposed IdentityGate circuit to Clifford+T: 3.499999365885742e-06 seconds\n",
      "   Time to decompose high level PhaseOffset circuit: 6.333400051516946e-05 seconds \n",
      "   Time to transform decomposed PhaseOffset circuit to Clifford+T: 8.758300100453198e-05 seconds\n",
      "   Time to decompose high level Trotter_Unitary circuit: 0.5947406670002238 seconds \n",
      "   Time to transform decomposed Trotter_Unitary circuit to Clifford+T: 2.3166216659992642 seconds\n",
      "   Time to decompose high level MeasurementGate circuit: 0.0024056670008576475 seconds \n",
      "   Time to transform decomposed MeasurementGate circuit to Clifford+T: 5.245800093689468e-05 seconds\n",
      "Time to estimate Ideal: 6.372025291000682\n"
     ]
    }
   ],
   "source": [
    "print('Estimating Current Limit')\n",
    "t0 = time.perf_counter()\n",
    "\n",
    "estimate_current_limit = gsee_resource_estimation(\n",
    "    outdir='GSE/FermiHubbard/',\n",
    "    numsteps=trotter_steps_current_limit,\n",
    "    gsee_args=current_limit_args,\n",
    "    init_state=init_state_current_limit,\n",
    "    precision_order=1,\n",
    "    bits_precision=bits_precision_current_limit,\n",
    "    phase_offset=phase_offset_current_limit,\n",
    "    circuit_name='three_band_current_limit',\n",
    "    metadata=metadata_current_limit,\n",
    "    write_circuits=True\n",
    ")\n",
    "t1 = time.perf_counter()\n",
    "print(f'Time to estimate Current Limit: {t1-t0}')\n",
    "\n",
    "print('Estimating Ideal')\n",
    "t0 = time.perf_counter()\n",
    "estimate_ideal = gsee_resource_estimation(\n",
    "    outdir='GSE/FermiHubbard/',\n",
    "    numsteps=trotter_steps_ideal,\n",
    "    gsee_args=ideal_args,\n",
    "    init_state=init_state_ideal,\n",
    "    precision_order=1,\n",
    "    bits_precision=bits_precision_ideal,\n",
    "    phase_offset=phase_offset_ideal,\n",
    "    circuit_name='three_band_ideal',\n",
    "    metadata=metadata_ideal,\n",
    "    write_circuits=True\n",
    ")\n",
    "t1 = time.perf_counter()\n",
    "print(f'Time to estimate Ideal: {t1-t0}')"
   ]
  },
  {
   "cell_type": "markdown",
   "metadata": {},
   "source": [
    "After Ground State Energy Estimation has been performed, we need to measure the autocorrelation, $\\frac{1}{2}\\langle \\Delta_{i,j} + \\Delta_{i,j}^{\\dagger}\\rangle$ where $\\Delta_{i,j} = \\langle c_{i+}c_{j-} - c_{i-}c_{j+} \\rangle$.  As above, for the case where $i = j = 0$, this can be performed in the following way.  One can rotate into the Pauli basis using the following transformation, where for simplicity we assume that $i = j = 0$ is in the middle of the lattice.  We will label the qubit representing site $i+$ as qubit 1 and the qubit representing site $i-$ as qubit 2.  Given $U = CNOT_{i+,i-} H_{i+} CNOT_{i+,i-}$, it can be shown that $U^\\dagger (c_{i+}c_{i-} - c_{i-}c_{i+}) U = -2 |\\uparrow \\uparrow \\rangle \\langle \\uparrow \\uparrow | + 2 |\\downarrow \\downarrow \\rangle \\langle \\downarrow \\downarrow|$.  This means that by simply applying the circuit $U$, then measuring, we can observe the autocorrelation.  This introduces 3 Clifford operations and no T gates.\n",
    "\n",
    "A similar operation, though acting on 4 qubits rather than 2 qubits, can be achieved in a similarly low constant circuit depth for the case where $i \\neq j$."
   ]
  },
  {
   "cell_type": "code",
   "execution_count": null,
   "metadata": {},
   "outputs": [],
   "source": []
  }
 ],
 "metadata": {
  "kernelspec": {
   "display_name": "qca",
   "language": "python",
   "name": "python3"
  },
  "language_info": {
   "codemirror_mode": {
    "name": "ipython",
    "version": 3
   },
   "file_extension": ".py",
   "mimetype": "text/x-python",
   "name": "python",
   "nbconvert_exporter": "python",
   "pygments_lexer": "ipython3",
   "version": "3.12.0"
  }
 },
 "nbformat": 4,
 "nbformat_minor": 4
}
