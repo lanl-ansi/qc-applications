{
 "cells": [
  {
   "cell_type": "markdown",
   "metadata": {},
   "source": [
    "# Basic examples\n",
    "This notebook outlines the construction of Hamiltonians which are not inherently useful\n",
    "on their own, but are of a similar form to what we expect for the most basic\n",
    "simulations where a quantum computer may be useful. This version is a working version and\n",
    "will likely be updated later to include more application relevant examples.  The dynamic\n",
    "simulation of these Hamiltonians can be thought of as a necessary but not sufficient\n",
    "condition for demonstrating the viability of a quantum computer as a useful tool for \n",
    "quanutm dynamic simulation.\n",
    "\n",
    "Note that running this entire notebook should take on the order of an hour.\n",
    "To see smaller cases, simply reduce the sizes of the lattices for the various Hamiltonians.\n",
    "\n",
    "## Basic Hamiltonian\n",
    "In this section we consider the time independent transverse field Ising Hamiltonians represented by graphs\n",
    "with a lattice structure. There are more complicated models which would likely\n",
    "be interesting to simulate, but as an initial pass we start by considering two models\n",
    "* 32x32 Triangular Lattice (1024 spins, 2 dimensions) with antiferromagnetic unit couplings\n",
    "* 12x12x12 Cubic Lattice (1728 spins, 3 dimensions) with random unit couplings\n",
    "The transverse field Ising Hamiltonian for a lattice graph, $G = (V,E)$ is as follows:\n",
    "\n",
    "\\begin{equation}\n",
    "H = \\sum_{i \\in V} \\Gamma_{i}\\sigma_{i}^{x} + \\sum_{i \\in V} h_{i} \\sigma_{i}^{z} + \\sum_{(i,j) \\in E} J_{i,j} \\sigma_{i}^{z} \\sigma_{j}^{z}\n",
    "\\end{equation}\n",
    "Note that in the instances presented here, we do not consider local longitudinal field terms ($\\boldsymbol{h}=0$), though this may not always be the case.\n",
    "We also do not consider in this example the state preparation circuit that may be required as that is heavily application dependent.\n",
    "For the purposes of these initial experiments, we can assume that the initial state is an eigenstate of either the $X$ or $Z$ basis since the preparation circuits for these have $O(1)$ depth.\n",
    "\n",
    "To be clear, the dynamic simulations mean simulating the Schrodinger Equation\n",
    "\\begin{equation}\n",
    "i \\hbar \\frac{\\partial}{\\partial t}|\\psi(t)\\rangle = H |\\psi(t)\\rangle\n",
    "\\end{equation}\n",
    "with solution\n",
    "\\begin{equation}\n",
    "|\\psi(t)\\rangle = e^{-\\frac{i}{\\hbar}H t}|\\psi(0)\\rangle\n",
    "\\end{equation}\n",
    "\n",
    "A subgraph of each lattice is plotted below to clarify the graph structure to clarify the graph structure."
   ]
  },
  {
   "cell_type": "code",
   "execution_count": null,
   "metadata": {},
   "outputs": [],
   "source": [
    "import os\n",
    "import time\n",
    "import json\n",
    "import random\n",
    "import numpy as np\n",
    "import networkx as nx\n",
    "from networkx import grid_graph\n",
    "from openfermion import count_qubits\n",
    "from networkx.classes.graph import Graph\n",
    "from openfermion.circuits import error_bound\n",
    "from openfermion.circuits import trotter_steps_required\n",
    "from networkx.generators.lattice import hexagonal_lattice_graph\n",
    "from openfermion.circuits.trotter_exp_to_qgates import trotterize_exp_qubop_to_qasm\n",
    "from qca.utils.utils import count_gates, get_T_depth_wire, get_T_depth, plot_histogram, gen_resource_estimate, re_as_json\n",
    "from qca.utils.hamiltonian_utils import (nx_triangle_lattice, flatten_nx_graph,\n",
    "                                         generate_square_hamiltonian, pyliqtr_hamiltonian_to_openfermion_qubit_operator,\n",
    "                                         assign_directional_triangular_labels, generate_triangle_hamiltonian,\n",
    "                                         assign_hexagon_labels)\n"
   ]
  },
  {
   "cell_type": "code",
   "execution_count": null,
   "metadata": {},
   "outputs": [],
   "source": [
    "import cirq\n",
    "from cirq.contrib import qasm_import\n",
    "from pyLIQTR.circuits.qsp import generate_QSP_circuit\n",
    "from pyLIQTR.utils.qsp_helpers import print_to_openqasm\n",
    "from pyLIQTR.utils.Hamiltonian import Hamiltonian as pyH\n",
    "from pyLIQTR.utils.qsp_helpers import circuit_decompose_once\n",
    "from pyLIQTR.utils.utils import open_fermion_to_qasm, count_T_gates\n",
    "from pyLIQTR.gate_decomp.cirq_transforms import clifford_plus_t_direct_transform\n",
    "from pyLIQTR.phase_factors.fourier_response.fourier_response import Angler_fourier_response\n"
   ]
  },
  {
   "cell_type": "code",
   "execution_count": null,
   "metadata": {},
   "outputs": [],
   "source": [
    "lattice_size = 3\n",
    "graph_square = grid_graph(dim = (lattice_size, lattice_size))\n",
    "graph_triangle = nx_triangle_lattice(lattice_size)\n",
    "graph_cube = grid_graph(dim = (lattice_size, lattice_size, lattice_size))"
   ]
  },
  {
   "cell_type": "code",
   "execution_count": null,
   "metadata": {},
   "outputs": [],
   "source": [
    "nx.draw(graph_square)"
   ]
  },
  {
   "cell_type": "code",
   "execution_count": null,
   "metadata": {},
   "outputs": [],
   "source": [
    "nx.draw(graph_triangle)"
   ]
  },
  {
   "cell_type": "code",
   "execution_count": null,
   "metadata": {},
   "outputs": [],
   "source": [
    "nx.draw(graph_cube)"
   ]
  },
  {
   "cell_type": "markdown",
   "metadata": {},
   "source": [
    "Now that we have an idea of what our Hamiltonians look like, we can begin generating them in a form accepted by pyLIQTR."
   ]
  },
  {
   "cell_type": "code",
   "execution_count": null,
   "metadata": {},
   "outputs": [],
   "source": [
    "def estimate_qsp(pyliqtr_hamiltonian, timesteps, energy_precision, outdir, hamiltonian_name='hamiltonian', write_circuits=False,):\n",
    "    timestep_of_interest=1 #for magnus like argument\n",
    "    t0 = time.perf_counter()\n",
    "    random.seed(0)\n",
    "    np.random.seed(0)\n",
    "    angles_response = Angler_fourier_response(tau=timestep_of_interest*pyliqtr_hamiltonian.alpha, eps=energy_precision, random=True, silent=True)\n",
    "    angles_response.generate()\n",
    "    angles = angles_response.phases\n",
    "\n",
    "    qsp_circuit = generate_QSP_circuit(pyliqtr_hamiltonian, angles, pyliqtr_hamiltonian.problem_size)\n",
    "    t1 = time.perf_counter()\n",
    "    elapsed = t1 - t0\n",
    "    print(\"  Time to generate high level QSP circuit: \" + str(elapsed) + \" seconds\")\n",
    "    \n",
    "    if not os.path.exists(outdir):\n",
    "        os.makedirs(outdir)\n",
    "    \n",
    "    subcircuit_counts = dict()\n",
    "    \n",
    "    \n",
    "    for moment in qsp_circuit:\n",
    "        for operation in moment:\n",
    "            gate_type = type(operation.gate)\n",
    "            if gate_type in subcircuit_counts:\n",
    "                subcircuit_counts[gate_type][0] += 1\n",
    "            else:\n",
    "                t0 = time.perf_counter()\n",
    "                decomposed_circuit = circuit_decompose_once(circuit_decompose_once(cirq.Circuit(operation)))\n",
    "                t1 = time.perf_counter()\n",
    "                elapsed = t1 - t0\n",
    "                print(\"    Time to decompose high level \" + str(gate_type)[8:-2] +\" circuit: \" + str(elapsed) + \" seconds\")\n",
    "                \n",
    "                t0 = time.perf_counter()\n",
    "                cpt_circuit = clifford_plus_t_direct_transform(decomposed_circuit)\n",
    "                t1 = time.perf_counter()\n",
    "                elapsed = t1 - t0\n",
    "                print(\"    Time to transform decomposed \" + str(gate_type)[8:-2] + \" circuit to Clifford+T: \" + str(elapsed) + \" seconds\")\n",
    "                \n",
    "                circ_name = f'{outdir}{str(gate_type).split(\".\")[-1][:-2]}'\n",
    "                if write_circuits:\n",
    "                    outfile_qasm_decomposed = f'{circ_name}.decomposed.qasm'\n",
    "                    outfile_qasm_cpt = f'{circ_name}.cpt.qasm'\n",
    "                    with open(outfile_qasm_decomposed, 'w') as f:\n",
    "                        print_to_openqasm(f, decomposed_circuit, qubits=decomposed_circuit.all_qubits())\n",
    "                    \n",
    "                    with open(outfile_qasm_cpt, 'w') as f:\n",
    "                        print_to_openqasm(f, cpt_circuit, qubits=cpt_circuit.all_qubits())\n",
    "                \n",
    "                subcircuit_counts[gate_type] = [1, cpt_circuit, circ_name]\n",
    "                \n",
    "    total_gate_count = 0\n",
    "    total_gate_depth = 0\n",
    "    total_T_depth = 0\n",
    "    total_T_depth_wire = 0\n",
    "    total_T_count = 0\n",
    "    total_clifford_count = 0\n",
    "    subcircuit_re = []\n",
    "    for gate in subcircuit_counts:\n",
    "        circuit = subcircuit_counts[gate][1]\n",
    "        circuit_name = subcircuit_counts[gate][2]\n",
    "        resource_estimate = gen_resource_estimate(circuit,\n",
    "                                                  circ_occurences=subcircuit_counts[gate][0]*timesteps)\n",
    "        subcircuit_info = {circuit_name:resource_estimate}\n",
    "        subcircuit_re.append(subcircuit_info)\n",
    "        gate_count = resource_estimate['gate_count']\n",
    "        gate_depth = resource_estimate['circuit_depth']\n",
    "        t_depth = resource_estimate['t_depth']\n",
    "        t_depth_wire = resource_estimate['max_t_depth_wire']\n",
    "        t_count = resource_estimate['t_count']\n",
    "        clifford_count = resource_estimate['clifford_count']\n",
    "        \n",
    "        total_gate_count += subcircuit_counts[gate][0] * gate_count * timesteps / timestep_of_interest\n",
    "        total_gate_depth += subcircuit_counts[gate][0] * gate_depth * timesteps / timestep_of_interest\n",
    "        total_T_depth += subcircuit_counts[gate][0] * t_depth * timesteps / timestep_of_interest\n",
    "        total_T_depth_wire += subcircuit_counts[gate][0] * t_depth_wire * timesteps / timestep_of_interest\n",
    "        total_T_count += subcircuit_counts[gate][0] * t_count * timesteps / timestep_of_interest\n",
    "        total_clifford_count += subcircuit_counts[gate][0] * clifford_count * timesteps / timestep_of_interest\n",
    "\n",
    "    outfile_data =f'{outdir}{hamiltonian_name}_high_level.json'\n",
    "    total_resources = {\n",
    "        'num_qubits': len(qsp_circuit.all_qubits()),\n",
    "        'gate_count': total_gate_count,\n",
    "        'circuit_depth': total_gate_depth,\n",
    "        't_count': total_T_count,\n",
    "        't_depth': total_T_depth,\n",
    "        't_depth_wire': total_T_depth_wire,\n",
    "        'clifford_count': total_clifford_count\n",
    "    }\n",
    "    re_as_json(total_resources, subcircuit_re, outfile_data)\n",
    "\n",
    "    return qsp_circuit"
   ]
  },
  {
   "cell_type": "code",
   "execution_count": null,
   "metadata": {},
   "outputs": [],
   "source": [
    "## initializing seed for consistent results for the cubic lattice and generating Hamiltonians\n",
    "random.seed(0)\n",
    "np.random.seed(0)\n",
    "square_lattice_size=10\n",
    "triangle_lattice_size=32\n",
    "cubic_lattice_size=12\n",
    "test_lattice_size=3\n",
    "\n",
    "square_hamiltonian = generate_square_hamiltonian(square_lattice_size, dim=2)\n",
    "cubic_hamiltonian = generate_square_hamiltonian(cubic_lattice_size, dim=3)\n",
    "triangular_hamiltonian = generate_triangle_hamiltonian(triangle_lattice_size)"
   ]
  },
  {
   "cell_type": "markdown",
   "metadata": {},
   "source": [
    "Now that we have generated our Hamiltonians, we can start generating the circuits for a preferred dynamic simulation method (e.g., QSP, Trotter 4th order, ...).  Shown below is QSP."
   ]
  },
  {
   "cell_type": "code",
   "execution_count": null,
   "metadata": {},
   "outputs": [],
   "source": [
    "timesteps=1000\n",
    "required_precision = 1e-16\n",
    "\n",
    "#feeding square Hamiltonian to PyLIQTR for circuit generation\n",
    "H_square = pyH(square_hamiltonian[0] + square_hamiltonian[1])\n",
    "H_triangle = pyH(triangular_hamiltonian[0] + triangular_hamiltonian[1])\n",
    "H_cube = pyH(cubic_hamiltonian[0] + cubic_hamiltonian[1])"
   ]
  },
  {
   "cell_type": "markdown",
   "metadata": {},
   "source": [
    "Now we need to extract resource estimates for each of the subcircuits of the high level circuit.  The information which we are interested in is as follows:\n",
    "* Total gate count for full circuit\n",
    "* Total depth for full circuit\n",
    "* Decomposed QASM circuit for each subcircuit\n",
    "* Clifford + T circuits for each subcircuit\n",
    "* Total T gate count for each subcircuit\n",
    "* Total Clifford count for each subcircuit\n",
    "* T gate depth for each subcircuit\n",
    "\n",
    "This information can be extracted by obtaining the information for each subcircuit and multiplying by the number of repetitions of the subcircuits.  In this\n",
    "notebook, we show the process for both QSP and second order Suzuki-Trotter, though this process could likely be generalized to many quantum algorithms.\n",
    "It should be noted that the approach shown here provides a slight over-estimation since it assumes that each of the subcircuits operate in serial.  This\n",
    "assumption is valid for both QSP and second order Suzuki-Trotter since the operations which consume the bulk of the circuit volume do operate in serial\n",
    "(Select and Reflect Operations and Trotter steps respectively)."
   ]
  },
  {
   "cell_type": "code",
   "execution_count": null,
   "metadata": {},
   "outputs": [],
   "source": [
    "print('Estimating Square', flush=True)\n",
    "qsp_circ_square = estimate_qsp(H_square, timesteps, required_precision, 'QSP/square_circuits/', hamiltonian_name='square')\n",
    "print('Estimating Triangle', flush=True)\n",
    "qsp_circ_triangle = estimate_qsp(H_triangle, timesteps, required_precision, 'QSP/triangle_circuits/', hamiltonian_name='triangle')\n",
    "print('Estimating Cube', flush=True)\n",
    "qsp_circ_cube = estimate_qsp(H_cube, timesteps, required_precision, 'QSP/cube_circuits/', hamiltonian_name='cube')\n",
    "print('Finished estimating', flush=True)"
   ]
  },
  {
   "cell_type": "markdown",
   "metadata": {},
   "source": [
    "# More complicated Hamiltonian\n",
    "There are a few ways to make the simulation task more challenging and more application relevant.\n",
    "The Kitaev honeycomb model is hypothesized to be a good model for the structure of many materials (see for example [here](https://www.sciencedirect.com/science/article/pii/S0370157321004051)).  This model is appealing for quantum simulation purposes because while the behavior in the infinite time regime is [understood](https://www.cambridge.org/core/books/introduction-to-topological-quantum-computation/kitaevs-honeycomb-lattice-model/85E968DD7C54F8062C4EAF5394DAAAF6), the behavior with minor perturbations to the model or the dynamics of the model are not so well [understood](https://courses.physics.illinois.edu/phys598PTD/fa2013/L26.pdf).  The Kitaev honeycomb model consists of directionally defined $XX$, $YY$, and $ZZ$ couplings on a honeycomb lattice.  These assignments are denoted in the plot below by 'X', 'Y', or 'Z' respectively."
   ]
  },
  {
   "cell_type": "code",
   "execution_count": null,
   "metadata": {},
   "outputs": [],
   "source": [
    "hexagon_graph = hexagonal_lattice_graph(3,3)\n",
    "pos = nx.get_node_attributes(hexagon_graph, 'pos')\n",
    "assign_hexagon_labels(hexagon_graph, 'X', 'Y', 'Z')\n",
    "edge_labels = dict([((n1, n2), d['label']) for n1, n2, d in hexagon_graph.edges(data=True)]);\n",
    "nx.draw(hexagon_graph, pos)\n",
    "nx.draw_networkx_edge_labels(hexagon_graph, pos,edge_labels = edge_labels);"
   ]
  },
  {
   "cell_type": "markdown",
   "metadata": {},
   "source": [
    "From this graph we can generate the Hamiltonian\n",
    "\\begin{equation*}\n",
    "H_{\\text{Kitaev}} = \\sum_{(i,j) \\in X \\text{ edges}} J_{i,j} \\sigma_i^x \\sigma_j^x + \\sum_{(i,j) \\in Y \\text{ edges}} J_{i,j} \\sigma_i^y \\sigma_j^y + \\sum_{(i,j) \\in Z \\text{ edges}} J_{i,j} \\sigma_i^z \\sigma_j^z\n",
    "\\end{equation*}"
   ]
  },
  {
   "cell_type": "code",
   "execution_count": null,
   "metadata": {},
   "outputs": [],
   "source": [
    "def nx_kitaev_terms(g:Graph, p:float) -> list:\n",
    "    hamiltonian = []\n",
    "    n = len(g.nodes)\n",
    "    for (n1, n2, d) in g.edges(data=True):\n",
    "        label = d['label']\n",
    "        weight = 1 if random.random() < p else -1\n",
    "        pauli_string = n * 'I'\n",
    "        for i in range(len(g)):\n",
    "            if i == n1 or i == n2:\n",
    "                pauli_string = f'{pauli_string[:i]}{label}{pauli_string[i+1:]}'\n",
    "            else:\n",
    "                pass\n",
    "        hamiltonian.append((pauli_string, weight))\n",
    "    return hamiltonian\n",
    "\n",
    "def generate_kitaev_hamiltonian(lattice_size:int, weight_prob:float=1):\n",
    "    graph = hexagonal_lattice_graph(lattice_size,lattice_size)\n",
    "    assign_hexagon_labels(graph, 'X', 'Y', 'Z')\n",
    "    graph = flatten_nx_graph(graph)\n",
    "    H = nx_kitaev_terms(graph, weight_prob)\n",
    "    return H\n"
   ]
  },
  {
   "cell_type": "code",
   "execution_count": null,
   "metadata": {},
   "outputs": [],
   "source": [
    "# lattice_size_kitaev = 3\n",
    "lattice_size_kitaev = 32\n",
    "kitaev_hamiltonian = generate_kitaev_hamiltonian(lattice_size_kitaev)\n",
    "\n",
    "timesteps = 1000\n",
    "required_precision = 1e-16\n",
    "H_kitaev = pyH(kitaev_hamiltonian)\n",
    "print('Estimating Kitaev', flush=True)\n",
    "qsp_circ_kitaev = estimate_qsp(H_kitaev, timesteps, \n",
    "                               required_precision, \n",
    "                               'QSP/kitaev_circuits/',\n",
    "                               hamiltonian_name='kitaev')\n",
    "print('Finished Estimating', flush=True)"
   ]
  },
  {
   "cell_type": "code",
   "execution_count": null,
   "metadata": {},
   "outputs": [],
   "source": [
    "def generate_directional_triangular_hamiltonian(lattice_size:int, weight_prob:float = 1):\n",
    "    graph = nx_triangle_lattice(lattice_size)\n",
    "    assign_directional_triangular_labels(graph,lattice_size)\n",
    "    graph = flatten_nx_graph(graph)\n",
    "    H = nx_kitaev_terms(graph, weight_prob)\n",
    "    return H\n",
    "\n",
    "g_triangle = nx_triangle_lattice(3)\n",
    "assign_directional_triangular_labels(g_triangle,3)"
   ]
  },
  {
   "cell_type": "code",
   "execution_count": null,
   "metadata": {},
   "outputs": [],
   "source": [
    "graph_triangle = nx_triangle_lattice(3)\n",
    "assign_directional_triangular_labels(graph_triangle, 3)\n",
    "pos = nx.spring_layout(graph_triangle)\n",
    "edge_labels = dict([((n1, n2), d['label']) for n1, n2, d in graph_triangle.edges(data=True)]);\n",
    "nx.draw(graph_triangle, pos)\n",
    "nx.draw_networkx_edge_labels(graph_triangle, pos,edge_labels = edge_labels);"
   ]
  },
  {
   "cell_type": "code",
   "execution_count": null,
   "metadata": {},
   "outputs": [],
   "source": [
    "lattice_size_directional_triangle = 32\n",
    "# lattice_size_directional_triangle = 3\n",
    "directional_triangle_hamiltonian = generate_directional_triangular_hamiltonian(lattice_size_directional_triangle)\n",
    "\n",
    "timesteps = 1000\n",
    "required_precision = 1e-16\n",
    "timestep_of_interest = 1 # sim_time\n",
    "H_directional_triangle = pyH(directional_triangle_hamiltonian)\n",
    "\n",
    "print('Estimating Directional Triangle', flush=True)\n",
    "qsp_circ_directional_triangle = estimate_qsp(H_directional_triangle, timesteps,\n",
    "                                             required_precision, 'QSP/directional_triangle_circuits/',\n",
    "                                             hamiltonian_name='directional_triangle')\n",
    "print('Finished Estimating', flush=True)"
   ]
  },
  {
   "cell_type": "markdown",
   "metadata": {},
   "source": [
    "# Trotter imeplementations\n",
    "Now we can do all of this again for second order Suzuki Trotter rather than QSP.  Below we will see how to construct a single trotter step of second order Suzuki-Trotter for these hamiltonians along with a loose upper bound for the number of trotter steps required.  According to the [documentation](https://quantumai.google/reference/python/openfermion/circuits/error_bound) from openfermion the trotter step estimate for the second order Suzuki-Trotter expansion."
   ]
  },
  {
   "cell_type": "code",
   "execution_count": null,
   "metadata": {},
   "outputs": [],
   "source": [
    "def find_hamiltonian_ordering(of_hamiltonian):\n",
    "    \"\"\"\n",
    "    Function to generate a near optimal term ordering for trotterization of transverse field Ising Models.\n",
    "    This would need to be modified if there were multi-qubit interactions that were not just ZZ\n",
    "    \"\"\"\n",
    "    # ordering hamiltonian terms by performing edge coloring to make optimal trotter ordering\n",
    "    # assuming that any 2 body interactions are ZZ\n",
    "    sorted_terms = sorted(list(of_hamiltonian.terms.keys()))\n",
    "    \n",
    "    # Z and X get translated to 90 and 88 respectively, multiplying by 100 \n",
    "    # ensures interacting term weight is considered\n",
    "    sorted_terms.sort(key=lambda x: len(x) * 100 + ord(x[0][1]))\n",
    "    \n",
    "    one_body_terms_ordered = list(filter(lambda x: len(x) == 1, sorted_terms))\n",
    "    two_body_terms = list(filter(lambda x: len(x) == 2, sorted_terms))\n",
    "    \n",
    "    # assigning edge colorings to order two body terms\n",
    "    graph = Graph()\n",
    "    for term in two_body_terms:\n",
    "        edge = (term[0][0], term[1][0])\n",
    "        graph.add_edge(*edge)\n",
    "    edge_coloring = nx.greedy_color(nx.line_graph(graph))\n",
    "    nx.set_edge_attributes(graph, edge_coloring, 'color')\n",
    "    for (i, term) in enumerate(two_body_terms):\n",
    "        n1, n2 = (term[0][0], term[1][0])\n",
    "        color = graph.edges[n1, n2]['color']\n",
    "        term = (*term, color)\n",
    "        two_body_terms[i] = term\n",
    "    \n",
    "    two_body_terms.sort(key=lambda x: x[2])\n",
    "    two_body_terms_ordered = list()\n",
    "    for (i, term) in enumerate(two_body_terms):\n",
    "        two_body_terms_ordered.append((term[0], term[1]))\n",
    "    return one_body_terms_ordered + two_body_terms_ordered"
   ]
  },
  {
   "cell_type": "code",
   "execution_count": null,
   "metadata": {},
   "outputs": [],
   "source": [
    "def estimate_trotter(openfermion_hamiltonian,\n",
    "                     timesteps, \n",
    "                     energy_precision, \n",
    "                     outdir, \n",
    "                     hamiltonian_name=\"hamiltonian\", \n",
    "                     write_circuits=False):\n",
    "    t0 = time.perf_counter()\n",
    "    bounded_error = error_bound(list(openfermion_hamiltonian.get_operators()),tight=False)\n",
    "    nsteps = trotter_steps_required(trotter_error_bound = bounded_error,\n",
    "                                                time = timesteps, \n",
    "                                                energy_precision = energy_precision)\n",
    "    print(f'we require {nsteps} trotter steps')\n",
    "    t1 = time.perf_counter()\n",
    "    elapsed = t1 - t0\n",
    "    print(\"  Time to estimate Number of steps required: \" + str(elapsed) + \" seconds\")\n",
    "    \n",
    "    t0 = time.perf_counter()\n",
    "    term_ordering = find_hamiltonian_ordering(openfermion_hamiltonian)\n",
    "    t1 = time.perf_counter()\n",
    "    elapsed = t1 - t0\n",
    "    print(\"  Time to find term ordering: \" + str(elapsed) + \" seconds\")\n",
    "    \n",
    "    t0 = time.perf_counter()\n",
    "    trotter_circuit_of = trotterize_exp_qubop_to_qasm(openfermion_hamiltonian, trotter_order=2, evolution_time=timesteps/nsteps, term_ordering=term_ordering)\n",
    "    t1 = time.perf_counter()\n",
    "    elapsed = t1 - t0\n",
    "    print(\"  Time to generate trotter circuit from openfermion: \" + str(elapsed) + \" seconds\")\n",
    "    \n",
    "    qasm_str_trotter = open_fermion_to_qasm(count_qubits(openfermion_hamiltonian), trotter_circuit_of)\n",
    "    trotter_circuit_qasm = qasm_import.circuit_from_qasm(qasm_str_trotter)\n",
    "    \n",
    "    t0 = time.perf_counter()\n",
    "    cpt_trotter = clifford_plus_t_direct_transform(trotter_circuit_qasm)\n",
    "    t1 = time.perf_counter()\n",
    "    elapsed = t1 - t0\n",
    "    print(\"  Time to decompose trotter to Clifford + T: \" + str(elapsed) + \" seconds\")\n",
    "    \n",
    "    #writing the the higher level trotter circuit to a file as well as the clifford + T circuit\n",
    "    if not os.path.exists(outdir):\n",
    "        os.makedirs(outdir)\n",
    "    \n",
    "    if write_circuits:\n",
    "        outfile_qasm_decomposed = outdir + \"trotter_circuit_\" + hamiltonian_name + \".qasm\" \n",
    "        outfile_qasm_cpt = outdir + \"trotter_cpt_\" + hamiltonian_name + \".qasm\"\n",
    "        with open(outfile_qasm_decomposed, 'w') as f:\n",
    "            print_to_openqasm(f, trotter_circuit_qasm, qubits=trotter_circuit_qasm.all_qubits())\n",
    "        with open(outfile_qasm_cpt, 'w') as f:\n",
    "            print_to_openqasm(f, cpt_trotter, qubits=cpt_trotter.all_qubits())\n",
    "    \n",
    "    t0 = time.perf_counter()\n",
    "    outfile_data = f'{outdir}trotter_{hamiltonian_name}.json'\n",
    "    trotter_estimate = gen_resource_estimate(cpt_trotter, trotter_steps=nsteps)\n",
    "    re_as_json(trotter_estimate, [], outfile_data)\n",
    "    \n",
    "    t1 = time.perf_counter()\n",
    "    elapsed = t1 - t0\n",
    "    print(\"  Time to enumerate resource estimates: \" + str(elapsed) + \" seconds\")\n",
    "    \n",
    "    return cpt_trotter"
   ]
  },
  {
   "cell_type": "code",
   "execution_count": null,
   "metadata": {},
   "outputs": [],
   "source": [
    "# Translating the hamiltonians from above into a form usable by openfermion\n",
    "openfermion_hamiltonian_square = pyliqtr_hamiltonian_to_openfermion_qubit_operator(H_square)\n",
    "openfermion_hamiltonian_triangle = pyliqtr_hamiltonian_to_openfermion_qubit_operator(H_triangle)\n",
    "openfermion_hamiltonian_cube = pyliqtr_hamiltonian_to_openfermion_qubit_operator(H_cube)\n",
    "openfermion_hamiltonian_kitaev = pyliqtr_hamiltonian_to_openfermion_qubit_operator(H_kitaev)\n",
    "openfermion_hamiltonian_directional_triangle = pyliqtr_hamiltonian_to_openfermion_qubit_operator(H_directional_triangle)"
   ]
  },
  {
   "cell_type": "markdown",
   "metadata": {},
   "source": [
    "## Estimates\n",
    "Trotterizing the Hamiltonians and writing estimates to files"
   ]
  },
  {
   "cell_type": "code",
   "execution_count": null,
   "metadata": {},
   "outputs": [],
   "source": [
    "# defining precision required for the trotterized circuit\n",
    "energy_precision = 1e-6\n",
    "timesteps=1000"
   ]
  },
  {
   "cell_type": "code",
   "execution_count": null,
   "metadata": {},
   "outputs": [],
   "source": [
    "print('Estimating Square', flush=True)\n",
    "cpt_trotter_square = estimate_trotter(openfermion_hamiltonian_square,\n",
    "                                      timesteps, energy_precision,\n",
    "                                      'Trotter/square_circuits/',\n",
    "                                      hamiltonian_name='square')\n",
    "print('Estimating Triangle', flush=True)\n",
    "cpt_trotter_triangle = estimate_trotter(openfermion_hamiltonian_triangle,\n",
    "                                        timesteps, energy_precision,\n",
    "                                        'Trotter/triangle_circuits/',\n",
    "                                        hamiltonian_name='triangle')\n",
    "print('Estimating Cube', flush=True)\n",
    "cpt_trotter_cube = estimate_trotter(openfermion_hamiltonian_cube,\n",
    "                                    timesteps, energy_precision,\n",
    "                                    'Trotter/cube_circuits/',\n",
    "                                    hamiltonian_name='cube')\n",
    "print('Estimating Kitaev', flush=True)\n",
    "cpt_trotter_kitaev = estimate_trotter(openfermion_hamiltonian_kitaev,\n",
    "                                      timesteps, energy_precision,\n",
    "                                      'Trotter/kitaev_circuits/',\n",
    "                                      hamiltonian_name='kitaev')\n",
    "print('Estimating Directional Triangle', flush=True)\n",
    "cpt_trotter_directional_triangle = estimate_trotter(openfermion_hamiltonian_directional_triangle, \n",
    "                                                    timesteps, energy_precision, 'Trotter/directional_triangle_circuits/', \n",
    "                                                    hamiltonian_name='directional_triangle')\n",
    "print('Finished with estimates', flush=True)"
   ]
  },
  {
   "cell_type": "code",
   "execution_count": null,
   "metadata": {},
   "outputs": [],
   "source": [
    "figdir = 'Trotter/Figures/'\n",
    "widthdir = 'Trotter/Widths/'\n",
    "if not os.path.exists(figdir):\n",
    "    os.makedirs(figdir)\n",
    "if not os.path.exists(widthdir):\n",
    "    os.makedirs(widthdir)"
   ]
  },
  {
   "cell_type": "code",
   "execution_count": null,
   "metadata": {},
   "outputs": [],
   "source": [
    "plot_histogram(\n",
    "    cpt_trotter_square,\n",
    "    'Trotter Square',\n",
    "    figdir,\n",
    "    widthdir\n",
    ")"
   ]
  },
  {
   "cell_type": "code",
   "execution_count": null,
   "metadata": {},
   "outputs": [],
   "source": [
    "plot_histogram(\n",
    "    cpt_trotter_triangle,\n",
    "    'Trotter Triangle',\n",
    "    figdir,\n",
    "    widthdir\n",
    ")"
   ]
  },
  {
   "cell_type": "code",
   "execution_count": null,
   "metadata": {},
   "outputs": [],
   "source": [
    "plot_histogram(\n",
    "    cpt_trotter_cube,\n",
    "    'Trotter Cube',\n",
    "    figdir,\n",
    "    widthdir\n",
    ")"
   ]
  },
  {
   "cell_type": "code",
   "execution_count": null,
   "metadata": {},
   "outputs": [],
   "source": [
    "plot_histogram(\n",
    "    cpt_trotter_kitaev,\n",
    "    'Trotter Kitaev',\n",
    "    figdir,\n",
    "    widthdir\n",
    ")"
   ]
  },
  {
   "cell_type": "code",
   "execution_count": null,
   "metadata": {},
   "outputs": [],
   "source": [
    "plot_histogram(\n",
    "    cpt_trotter_directional_triangle,\n",
    "    'Trotter Directional Triangle',\n",
    "    figdir,\n",
    "    widthdir\n",
    ")"
   ]
  },
  {
   "cell_type": "code",
   "execution_count": null,
   "metadata": {},
   "outputs": [],
   "source": []
  }
 ],
 "metadata": {
  "kernelspec": {
   "display_name": "base",
   "language": "python",
   "name": "python3"
  },
  "language_info": {
   "codemirror_mode": {
    "name": "ipython",
    "version": 3
   },
   "file_extension": ".py",
   "mimetype": "text/x-python",
   "name": "python",
   "nbconvert_exporter": "python",
   "pygments_lexer": "ipython3",
   "version": "3.11.5"
  }
 },
 "nbformat": 4,
 "nbformat_minor": 2
}
