{
 "cells": [
  {
   "cell_type": "markdown",
   "metadata": {},
   "source": [
    "# Simulation of Quantum Chromodynamics and Nuclear Astrophysics"
   ]
  },
  {
   "cell_type": "markdown",
   "metadata": {},
   "source": [
    "Core-collapse supernovae are among the most catostrophic events in the universe, and play an important role in cosmological history, providing an engine by which elements heavier than iron can be synthesized. Although supernovae are ultimately driven by the microscopic mechanisms in nuclear physics, their simulation naively appears to be a problem of classical physics of transport and fluid dynamics. However, these supernovae generate a tremendous number of neutrinos, with the bulk of the energy of the supernova being carried away by the neutrinos.\n",
    "\n",
    "For a complete treatment of the physics of a supernova, a critical question to answer is the exact\n",
    "momentum and flavor distribution of the neutrinos during the course of the supernova. At such\n",
    "large densities, traditional classical computational methods of kinetic theory become impractical, as\n",
    "it is necessary to determine the time-evolution of the full many-body density matrix, and recently,\n",
    "much effort in the field has been devoted to using quantum computation and quantum information\n",
    "science as a way forward.\n",
    "\n",
    "Tracing out a static nuclear and electron background that the neutrinos are embedded in, the hamiltonian for our system is the following:\n",
    "$$\\hat{H} = \\hat{H}_1 + \\hat{H}_2 $$\n",
    "$$\\hat{H}_1 = \\sum_{f, f'}\\sum_{s, s'} \\int d^3 \\vec{p}B_{ff',ss'}(t, \\vec{p})\\hat{a}_{f,s}^\\dag(\\vec{p})\\hat{a}_{f',s'\\vec{p}}$$\n",
    "$$\\hat{H}_2 = \\sum_{f_1,f_2,f_3,f_4}\\sum_{s_1,s_2,s_3,s_4} \\int d^3\\vec{p_1}d^3\\vec{p_2}d^3\\vec{p_3}d^3\\vec{p_4}C(\\vec{p_1}^{f_1s_1},\\vec{p_2}^{f_2s_2},\\vec{p_3}^{f_3s_3},\\vec{p_4}^{f_4s_4})\\delta^{(3)}\\bigg( \\sum_{i}\\vec{p_i}\\bigg) $$\n",
    "\n",
    "$$\\times \\hat{a}^{\\dagger}_{f_3,s_3}(\\vec{p_3})\\hat{a}_{f_1,s_1}(\\vec{p_1})\\hat{a}^{\\dagger}_{f_4,s_4}(\\vec{p_4})\\hat{a}_{f_2,s_2}(\\vec{p_2})$$\n",
    "\n",
    "The operators $\\hat{a}^{\\dagger}_{f,s,\\vec{p}}$,$\\hat{a}_{f,s,\\vec{p}}$ are fermionic creation and annihilation operators with anti-commutation relations that create and annihilate states of flavor f, spin s, and momentum $\\vec{p}$.\n",
    "\n",
    "The coefficients C for relativistic neutrinos is easily expressed in terms of helicity projected 2-spinors, as helicity and chirality dependence becomes identical, and is given as:\n",
    "$$C(\\vec{p_1}^f, \\vec{p_2}^{f'}, \\vec{p_3}^f, \\vec{p_4}^{f'}) = \\frac{G_f}{\\sqrt{2}}\\bra p_{1} $$\n",
    "\n",
    "The hamiltonians $\\hat{H}_1$ and $\\hat{H}_2$ represent the one and two-body neutrino hamiltonians. $G_F$ is the low energy coupling constant from the 4-Fermi effective theory of the standard model that results from integrating out the Z-boson. The one body hamiltonian includes the neutrino kinetic energy terms, the mass mixing matrix, and the interactions of neutrinos against any fixed background of nuclear or electron matter.\n",
    "\n",
    "The primary goal of the theorist analyzing the problem is to calculate the final distribution of\n",
    "momenta and flavors of the neutrinos given a specific initial distribution. If $\\hat{\\rho}$ is the initial density matrix of all the neutrinos, this is the asymptotic flavor-dependent momentum spectrum:\n",
    "$$N_f(t, \\vec{p}) = tr\\bigg[\\hat{a}^{\\dagger}_{f}(\\vec{p})\\hat{a}_{f}(\\vec{p})e^{it\\hat{H}}\\hat{\\rho}e^{-it\\hat{H}} \\bigg], \\text{as } t \\gg T_{sn} $$\n"
   ]
  },
  {
   "cell_type": "markdown",
   "metadata": {},
   "source": [
    "However, a lower bound to the computational gate complexity of our hamiltonian can be provided by considering a simplified case of the neutrino scattering hamiltonian known as the forward scattering model. As the forward scattering model is a strict subset of the full problem, any gate count and qubit requirements for the forward scattering problem lower bounds the difficulty of the full problem.\n",
    "\n",
    "In the integrals over all possible momenta, we consider two decisions:\n",
    "1. $\\vec{p_1} = -\\vec{p_3}$ and $\\vec{p_2} = -\\vec{p_1}$\n",
    "2. $\\vec{p_1} = -\\vec{p_4}$ and $\\vec{p_2} = -\\vec{p_3}$\n",
    "which represents the forward/back-scattering scenarios.\n",
    "\n",
    "This model comes with several more restrictions:\n",
    "- Neglect anti-neutrinos\n",
    "- Restrict to a two-flavor model\n",
    "- Fix the number of momentum nodes to be the number of neutrinos, N=K\n",
    "\n",
    "We can then write the hamiltonian as an all-to-all Heisenberg model, yielding\n",
    "$$\\hat{H} = \\sum_{i=1}^{N}\\vec{b_i} \\cdot \\hat{\\vec{\\sigma_{i}}} + \\frac{G_{F}\\mu}{\\sqrt{2}N} p_i \\cdot p_j \\hat{\\vec{\\sigma_i}} \\cdot \\hat{\\vec{\\sigma_{j}}} $$\n",
    "\n",
    "Where now N is the number of neutrinos or equivalently momentum nodes, and $\\vec{b}_i$ is the one-body coupling matrix, $\\vec{p}_i$ is the momentum of the i-th neutrino, $\\mu$ is the density of neutrinos, which we can take to be 1 with a redition of time after setting the one-body terms to zero, and $\\hat{\\vec{\\sigma_i}}$ is a Pauli matrix operating on the flavor space of the i-th momentum mode. \n",
    "\n",
    "With an all-to-all connected architecture, the simplest Trotterization of this Hamiltonian yields a circuit with N depth for a single trotter step."
   ]
  },
  {
   "cell_type": "code",
   "execution_count": 43,
   "metadata": {},
   "outputs": [],
   "source": [
    "from random import uniform\n",
    "\n",
    "import cirq\n",
    "\n",
    "import numpy as np\n",
    "\n",
    "from qca.utils.utils import circuit_estimate\n",
    "\n",
    "from pyLIQTR.clam.lattice_definitions import SquareLattice\n",
    "from pyLIQTR.ProblemInstances.getInstance import getInstance\n",
    "from pyLIQTR.utils.resource_analysis import estimate_resources\n",
    "from pyLIQTR.BlockEncodings.getEncoding import getEncoding, VALID_ENCODINGS\n",
    "from pyLIQTR.qubitization.qsvt_dynamics import qsvt_dynamics, simulation_phases"
   ]
  },
  {
   "cell_type": "markdown",
   "metadata": {},
   "source": [
    "# Initial State Preparation\n",
    "A reasonable initial state is a product state, which for each neutrino is Gaussian distributed over momenta, with the momentum peaked at the nuclear scales at which the neutrinos are generated, i.e, 1 - 10 MeV. Product states suffice due to the uncorrelated production of the neutrinos, and the gaussian distribution localizes the neutrinos to specific regions of the supernova.\n",
    "\n",
    "For determining a good initial state that provides information over how the thermalization proceeds as function of the inititla total spin along the z-direction, there are five cases we can consider. Despite their being more exotic states that we can consider, such states are irrelevant for this task. These five possible initial states are:\n",
    "1. 50% qubits up state and the rest down\n",
    "2. 60% qubits up state and the rest down\n",
    "3. 70% qubits up state and the rest down\n",
    "4. 80% qubits up state and the rest down\n",
    "5. 90% qubits up state and the rest down\n",
    "\n",
    "As such, we can clearly see that the cost for preparing the initial state is a constant, depth 1 operation. "
   ]
  },
  {
   "cell_type": "code",
   "execution_count": 2,
   "metadata": {},
   "outputs": [
    {
     "data": {
      "text/html": [
       "<pre style=\"overflow: auto; white-space: pre;\">0: ───X───\n",
       "\n",
       "1: ───X───\n",
       "\n",
       "2: ───X───\n",
       "\n",
       "3: ───X───\n",
       "\n",
       "4: ───X───</pre>"
      ],
      "text/plain": [
       "0: ───X───\n",
       "\n",
       "1: ───X───\n",
       "\n",
       "2: ───X───\n",
       "\n",
       "3: ───X───\n",
       "\n",
       "4: ───X───"
      ]
     },
     "execution_count": 2,
     "metadata": {},
     "output_type": "execute_result"
    }
   ],
   "source": [
    "def initial_state_prep(n_qubits:int, spin_up_percent:float) -> cirq.Circuit:\n",
    "    qubits_spin_up = int(spin_up_percent*n_qubits)\n",
    "    qubits = [cirq.LineQubit(idx) for idx in range(qubits_spin_up)]\n",
    "    spin_up_portion = [cirq.X(qb) for qb in qubits]\n",
    "\n",
    "    circuit = cirq.Circuit()\n",
    "    circuit.append(spin_up_portion)\n",
    "    return circuit\n",
    "\n",
    "initial_state_prep(10, 0.5)"
   ]
  },
  {
   "cell_type": "markdown",
   "metadata": {},
   "source": [
    "# Dynamics"
   ]
  },
  {
   "cell_type": "markdown",
   "metadata": {},
   "source": [
    "The simplest case that can prove to be of scientific use will be to consider a gas of momentum plane-wave neutrinos, undergoing two-body interactions without a complicating matter background, in the relativistic limit. Then the one-body hamiltonian reduces reduces to the identity, being the conserved total kinetic energy of the system. Thus, the goal will be to see how equilibration is reached for flavor distribution of a single momentum mode for a given distribution of initial neutrino momenta and flavors.\n",
    "\n",
    "We first need to initialize the couplings. We know the following:\n",
    "$$p_i \\cdot p_j = 1 - \\vec{p}_i \\cdot \\vec{p}_j$$\n",
    "$$\\lvert \\lvert \\vec{p}_i \\rvert \\rvert = 1 \\quad \\forall_i$$\n",
    "$$\\vec{p}_i = (p_i^x, p_i^y, p_i^z) $$\n",
    "\n",
    "We have two cases:\n",
    "- Spherical distributed: $\\vec{p}_i$ is uniform on the sphere\n",
    "- Gaussian distributed: $\\vec{p}_i$ is Gaussian about a direction\n",
    "  \n",
    "Let Pr(x) mean \"probability of x\". To accomplish spherical, for each i, draw 3 random numbers x, y, z gaussian distributed:\n",
    "- Pr(x) $\\propto exp(-x^2) $\n",
    "- Pr(y) $\\propto exp(-y^2) $\n",
    "- Pr(z) $\\propto exp(-z^2) $\n",
    "  \n",
    "Set: $\\vec{p_i} = \\frac{1}{\\sqrt{x^2 + y^2 + z^2}}(x, y, z)$\n",
    "\n",
    "To accomplish guassian:\n",
    "\n",
    "For each i, draw 2 random numbers $\\theta, \\phi$ distributed as:\n",
    "\n",
    "- Pr($\\theta$) $\\propto \\Theta(\\pi - \\theta)exp(-\\theta^2/\\sigma_2) $\n",
    "- Pr($\\phi$) uniform between [0, $2\\pi$]\n",
    "Set: $\\vec{p}_i = (sin\\theta cos\\phi, sin\\theta sin\\phi, cos\\theta)$\n",
    "\n",
    "Note that we want $\\sigma \\ll \\pi/2$, so we can take it to be 0.25 for definiteness"
   ]
  },
  {
   "cell_type": "code",
   "execution_count": 5,
   "metadata": {},
   "outputs": [],
   "source": [
    "n_neutrinos = 4\n",
    "def define_momentum_matrix(n_neutrinos:int) -> list[list[float]]:\n",
    "    momentum = []\n",
    "    for _ in range(n_neutrinos):\n",
    "        x = np.exp(-uniform(0, 1)**2)\n",
    "        y = np.exp(-uniform(0, 1)**2)\n",
    "        z = np.exp(-uniform(0, 1)**2)\n",
    "        constant = 1/(np.sqrt(x**2 + y**2 + z**2))\n",
    "        ith_momentum = [\n",
    "            constant*x,\n",
    "            constant*y,\n",
    "            constant*z\n",
    "        ]\n",
    "        momentum.append(ith_momentum)\n",
    "    return momentum\n",
    "\n",
    "momentum = define_momentum_matrix(n_neutrinos)"
   ]
  },
  {
   "cell_type": "code",
   "execution_count": 28,
   "metadata": {},
   "outputs": [
    {
     "data": {
      "text/plain": [
       "{'A': [['X', 'Y', 'Z'], [0, 0, 0]],\n",
       " 'AA': [['XX', 'YY', 'ZZ'],\n",
       "  [0.004831293072526074, 0.004831293072526074, 0.004831293072526074]],\n",
       " 'B': [['X', 'Y', 'Z'], [0, 0, 0]],\n",
       " 'BB': [['XX', 'YY', 'ZZ'],\n",
       "  [0.009073749233230042, 0.009073749233230042, 0.009073749233230042]],\n",
       " 'C': [['X', 'Y', 'Z'], [0, 0, 0]],\n",
       " 'CC': [['XX', 'YY', 'ZZ'],\n",
       "  [0.019589318085985664, 0.019589318085985664, 0.019589318085985664]]}"
      ]
     },
     "execution_count": 28,
     "metadata": {},
     "output_type": "execute_result"
    }
   ],
   "source": [
    "def define_forward_scattering_terms(n_neutrinos, momentum_matrix: list[list[float]]) -> dict:\n",
    "    terms = {}\n",
    "    starting_char = 'A'\n",
    "    normalization_factor = 1/(np.sqrt(2)*n_neutrinos)\n",
    "    for idx in range(0, len(momentum_matrix)-1):\n",
    "        curr_site = momentum_matrix[idx]\n",
    "        neighbor = momentum_matrix[idx+1]\n",
    "        couplings = 1 - np.inner(curr_site, neighbor)\n",
    "        normalized_couplings = normalization_factor*couplings\n",
    "        terms[starting_char] = [['X', 'Y', 'Z'], [0]*3]\n",
    "        terms[starting_char*2] = [['XX', 'YY', 'ZZ'], [normalized_couplings]*3]\n",
    "        starting_char = chr(ord(starting_char)+1)\n",
    "    return terms\n",
    "terms = define_forward_scattering_terms(n_neutrinos,momentum)\n",
    "terms"
   ]
  },
  {
   "cell_type": "code",
   "execution_count": 32,
   "metadata": {},
   "outputs": [
    {
     "data": {
      "image/png": "[encoded data removed]",
      "text/plain": [
       "<Figure size 640x480 with 1 Axes>"
      ]
     },
     "metadata": {},
     "output_type": "display_data"
    }
   ],
   "source": [
    "model = getInstance(\n",
    "    'Heisenberg',\n",
    "    shape=(2, 2),\n",
    "    cell=SquareLattice,\n",
    "    terms=terms\n",
    ")\n",
    "model.draw_lattice()\n",
    "encoding = getEncoding(VALID_ENCODINGS.PauliLCU)\n",
    "block_encode = encoding(model)\n",
    "alpha = block_encode.alpha\n",
    "eps = 1e-3\n",
    "N = 3\n",
    "times       =  1.0 * N * alpha"
   ]
  },
  {
   "cell_type": "code",
   "execution_count": 46,
   "metadata": {},
   "outputs": [
    {
     "name": "stdout",
     "output_type": "stream",
     "text": [
      "<class 'cirq.circuits.circuit.Circuit'>\n",
      "{'LogicalQubits': 10, 'T': 59465, 'Clifford': 123673}\n"
     ]
    },
    {
     "name": "stderr",
     "output_type": "stream",
     "text": [
      "/Users/jonhas/anaconda3/envs/other_qca/lib/python3.11/site-packages/numpy/linalg/linalg.py:2180: RuntimeWarning: divide by zero encountered in det\n",
      "  r = _umath_linalg.det(a, signature=signature)\n",
      "/Users/jonhas/anaconda3/envs/other_qca/lib/python3.11/site-packages/numpy/linalg/linalg.py:2180: RuntimeWarning: invalid value encountered in det\n",
      "  r = _umath_linalg.det(a, signature=signature)\n",
      "/Users/jonhas/anaconda3/envs/other_qca/lib/python3.11/site-packages/numpy/linalg/linalg.py:2180: RuntimeWarning: divide by zero encountered in det\n",
      "  r = _umath_linalg.det(a, signature=signature)\n",
      "/Users/jonhas/anaconda3/envs/other_qca/lib/python3.11/site-packages/numpy/linalg/linalg.py:2180: RuntimeWarning: invalid value encountered in det\n",
      "  r = _umath_linalg.det(a, signature=signature)\n",
      "/Users/jonhas/anaconda3/envs/other_qca/lib/python3.11/site-packages/numpy/linalg/linalg.py:2180: RuntimeWarning: divide by zero encountered in det\n",
      "  r = _umath_linalg.det(a, signature=signature)\n",
      "/Users/jonhas/anaconda3/envs/other_qca/lib/python3.11/site-packages/numpy/linalg/linalg.py:2180: RuntimeWarning: invalid value encountered in det\n",
      "  r = _umath_linalg.det(a, signature=signature)\n",
      "/Users/jonhas/anaconda3/envs/other_qca/lib/python3.11/site-packages/numpy/linalg/linalg.py:2180: RuntimeWarning: divide by zero encountered in det\n",
      "  r = _umath_linalg.det(a, signature=signature)\n",
      "/Users/jonhas/anaconda3/envs/other_qca/lib/python3.11/site-packages/numpy/linalg/linalg.py:2180: RuntimeWarning: invalid value encountered in det\n",
      "  r = _umath_linalg.det(a, signature=signature)\n",
      "/Users/jonhas/anaconda3/envs/other_qca/lib/python3.11/site-packages/numpy/linalg/linalg.py:2180: RuntimeWarning: divide by zero encountered in det\n",
      "  r = _umath_linalg.det(a, signature=signature)\n",
      "/Users/jonhas/anaconda3/envs/other_qca/lib/python3.11/site-packages/numpy/linalg/linalg.py:2180: RuntimeWarning: invalid value encountered in det\n",
      "  r = _umath_linalg.det(a, signature=signature)\n",
      "/Users/jonhas/anaconda3/envs/other_qca/lib/python3.11/site-packages/numpy/linalg/linalg.py:2180: RuntimeWarning: divide by zero encountered in det\n",
      "  r = _umath_linalg.det(a, signature=signature)\n",
      "/Users/jonhas/anaconda3/envs/other_qca/lib/python3.11/site-packages/numpy/linalg/linalg.py:2180: RuntimeWarning: invalid value encountered in det\n",
      "  r = _umath_linalg.det(a, signature=signature)\n",
      "/Users/jonhas/anaconda3/envs/other_qca/lib/python3.11/site-packages/numpy/linalg/linalg.py:2180: RuntimeWarning: divide by zero encountered in det\n",
      "  r = _umath_linalg.det(a, signature=signature)\n",
      "/Users/jonhas/anaconda3/envs/other_qca/lib/python3.11/site-packages/numpy/linalg/linalg.py:2180: RuntimeWarning: invalid value encountered in det\n",
      "  r = _umath_linalg.det(a, signature=signature)\n",
      "/Users/jonhas/anaconda3/envs/other_qca/lib/python3.11/site-packages/numpy/linalg/linalg.py:2180: RuntimeWarning: divide by zero encountered in det\n",
      "  r = _umath_linalg.det(a, signature=signature)\n",
      "/Users/jonhas/anaconda3/envs/other_qca/lib/python3.11/site-packages/numpy/linalg/linalg.py:2180: RuntimeWarning: invalid value encountered in det\n",
      "  r = _umath_linalg.det(a, signature=signature)\n",
      "/Users/jonhas/anaconda3/envs/other_qca/lib/python3.11/site-packages/numpy/linalg/linalg.py:2180: RuntimeWarning: divide by zero encountered in det\n",
      "  r = _umath_linalg.det(a, signature=signature)\n",
      "/Users/jonhas/anaconda3/envs/other_qca/lib/python3.11/site-packages/numpy/linalg/linalg.py:2180: RuntimeWarning: invalid value encountered in det\n",
      "  r = _umath_linalg.det(a, signature=signature)\n",
      "/Users/jonhas/anaconda3/envs/other_qca/lib/python3.11/site-packages/numpy/linalg/linalg.py:2180: RuntimeWarning: divide by zero encountered in det\n",
      "  r = _umath_linalg.det(a, signature=signature)\n",
      "/Users/jonhas/anaconda3/envs/other_qca/lib/python3.11/site-packages/numpy/linalg/linalg.py:2180: RuntimeWarning: invalid value encountered in det\n",
      "  r = _umath_linalg.det(a, signature=signature)\n",
      "/Users/jonhas/anaconda3/envs/other_qca/lib/python3.11/site-packages/numpy/linalg/linalg.py:2180: RuntimeWarning: divide by zero encountered in det\n",
      "  r = _umath_linalg.det(a, signature=signature)\n",
      "/Users/jonhas/anaconda3/envs/other_qca/lib/python3.11/site-packages/numpy/linalg/linalg.py:2180: RuntimeWarning: invalid value encountered in det\n",
      "  r = _umath_linalg.det(a, signature=signature)\n",
      "/Users/jonhas/anaconda3/envs/other_qca/lib/python3.11/site-packages/numpy/linalg/linalg.py:2180: RuntimeWarning: divide by zero encountered in det\n",
      "  r = _umath_linalg.det(a, signature=signature)\n",
      "/Users/jonhas/anaconda3/envs/other_qca/lib/python3.11/site-packages/numpy/linalg/linalg.py:2180: RuntimeWarning: invalid value encountered in det\n",
      "  r = _umath_linalg.det(a, signature=signature)\n",
      "/Users/jonhas/anaconda3/envs/other_qca/lib/python3.11/site-packages/numpy/linalg/linalg.py:2180: RuntimeWarning: divide by zero encountered in det\n",
      "  r = _umath_linalg.det(a, signature=signature)\n",
      "/Users/jonhas/anaconda3/envs/other_qca/lib/python3.11/site-packages/numpy/linalg/linalg.py:2180: RuntimeWarning: invalid value encountered in det\n",
      "  r = _umath_linalg.det(a, signature=signature)\n",
      "/Users/jonhas/anaconda3/envs/other_qca/lib/python3.11/site-packages/numpy/linalg/linalg.py:2180: RuntimeWarning: divide by zero encountered in det\n",
      "  r = _umath_linalg.det(a, signature=signature)\n",
      "/Users/jonhas/anaconda3/envs/other_qca/lib/python3.11/site-packages/numpy/linalg/linalg.py:2180: RuntimeWarning: invalid value encountered in det\n",
      "  r = _umath_linalg.det(a, signature=signature)\n",
      "/Users/jonhas/anaconda3/envs/other_qca/lib/python3.11/site-packages/numpy/linalg/linalg.py:2180: RuntimeWarning: divide by zero encountered in det\n",
      "  r = _umath_linalg.det(a, signature=signature)\n",
      "/Users/jonhas/anaconda3/envs/other_qca/lib/python3.11/site-packages/numpy/linalg/linalg.py:2180: RuntimeWarning: invalid value encountered in det\n",
      "  r = _umath_linalg.det(a, signature=signature)\n",
      "/Users/jonhas/anaconda3/envs/other_qca/lib/python3.11/site-packages/numpy/linalg/linalg.py:2180: RuntimeWarning: divide by zero encountered in det\n",
      "  r = _umath_linalg.det(a, signature=signature)\n",
      "/Users/jonhas/anaconda3/envs/other_qca/lib/python3.11/site-packages/numpy/linalg/linalg.py:2180: RuntimeWarning: invalid value encountered in det\n",
      "  r = _umath_linalg.det(a, signature=signature)\n",
      "/Users/jonhas/anaconda3/envs/other_qca/lib/python3.11/site-packages/numpy/linalg/linalg.py:2180: RuntimeWarning: divide by zero encountered in det\n",
      "  r = _umath_linalg.det(a, signature=signature)\n",
      "/Users/jonhas/anaconda3/envs/other_qca/lib/python3.11/site-packages/numpy/linalg/linalg.py:2180: RuntimeWarning: invalid value encountered in det\n",
      "  r = _umath_linalg.det(a, signature=signature)\n"
     ]
    },
    {
     "name": "stdout",
     "output_type": "stream",
     "text": [
      "   Time to decompose high level QSVT_real_polynomial_sum circuit: 0.40035762498155236 seconds \n",
      "   Time to transform decomposed QSVT_real_polynomial_sum circuit to Clifford+T: 0.7289995000464842 seconds\n"
     ]
    },
    {
     "data": {
      "text/plain": [
       "{'Logical_Abstract': {'num_qubits': 10,\n",
       "  't_count': 14268,\n",
       "  'circuit_depth': 58631,\n",
       "  'gate_count': 85038,\n",
       "  't_depth': 14060,\n",
       "  'clifford_count': 70770,\n",
       "  'subcircuit_occurences': 1,\n",
       "  'subcircuit_info': {'qsvt': {'num_qubits': 10,\n",
       "    't_count': 14268,\n",
       "    'circuit_depth': 58631,\n",
       "    'gate_count': 85038,\n",
       "    't_depth': 14060,\n",
       "    'clifford_count': 70770,\n",
       "    'subcircuit_occurences': 1,\n",
       "    'subcircuit_info': {'QSVT_real_polynomial_sum': {'num_qubits': 192,\n",
       "      't_count': 14268,\n",
       "      'circuit_depth': 58631,\n",
       "      'gate_count': 85038,\n",
       "      't_depth': 14060,\n",
       "      'clifford_count': 70770,\n",
       "      'subcircuit_occurences': 1}}}}}}"
      ]
     },
     "execution_count": 46,
     "metadata": {},
     "output_type": "execute_result"
    }
   ],
   "source": [
    "phases      =  simulation_phases(times,eps=eps)\n",
    "gate_qsvt   =   qsvt_dynamics( encoding=getEncoding(VALID_ENCODINGS.PauliLCU),\n",
    "                               instance=model,\n",
    "                               phase_sets=phases)\n",
    "print(type(gate_qsvt.circuit))\n",
    "print(estimate_resources(gate_qsvt))\n",
    "circuit_estimate(\n",
    "    gate_qsvt.circuit,\n",
    "    'test/',\n",
    "    numsteps=1,\n",
    "    algo_name='qsvt',\n",
    "    include_nested_resources=1,\n",
    "    write_circuits=True\n",
    ")"
   ]
  },
  {
   "cell_type": "code",
   "execution_count": null,
   "metadata": {},
   "outputs": [],
   "source": []
  }
 ],
 "metadata": {
  "kernelspec": {
   "display_name": "other_qca",
   "language": "python",
   "name": "python3"
  },
  "language_info": {
   "codemirror_mode": {
    "name": "ipython",
    "version": 3
   },
   "file_extension": ".py",
   "mimetype": "text/x-python",
   "name": "python",
   "nbconvert_exporter": "python",
   "pygments_lexer": "ipython3",
   "version": "3.11.9"
  }
 },
 "nbformat": 4,
 "nbformat_minor": 2
}
